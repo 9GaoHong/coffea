{
 "cells": [
  {
   "cell_type": "markdown",
   "metadata": {},
   "source": [
    "# Running inference tools\n",
    "\n",
    "As machine learning (ML) becomes more popular in HEP analysis, coffea also\n",
    "provide tools to assist with using ML tools within the coffea framework. For\n",
    "training and validation, you would likely need custom data mangling tools to\n",
    "convert standard CMS data formats ([NanoAOD][nanoaod], [PFNano][pfnano]) to a\n",
    "format that best interfaces with the ML tool of choice to have fine control over\n",
    "what is done. For more advanced use cases of data mangling and data saving,\n",
    "refer to the [awkward array manual][datamangle] and\n",
    "[uproot][uproot_write]/[parquet][ak_parquet] write operations for saving\n",
    "intermediate states. This reference mainly focuses on the result inference side\n",
    "of ML tools, where ML tool outputs are used as another variable to be used in\n",
    "the event/object selection chain.\n",
    "\n",
    "[nanoaod]: https://twiki.cern.ch/twiki/bin/view/CMSPublic/WorkBookNanoAOD\n",
    "[pfnano]: https://github.com/cms-jet/PFNano\n",
    "[datamangle]: https://awkward-array.org/doc/main/user-guide/how-to-restructure.html\n",
    "[uproot_write]: https://uproot.readthedocs.io/en/latest/basic.html#writing-ttrees-to-a-file\n",
    "[ak_parquet]: https://awkward-array.org/doc/main/reference/generated/ak.to_parquet.html\n"
   ]
  },
  {
   "cell_type": "markdown",
   "metadata": {},
   "source": [
    "## Why these wrapper tools are needed\n",
    "\n",
    "The typical operation of using ML inference tools in the awkward/coffea analysis\n",
    "tools involves the conversion and padding of awkward array to ML tool containers\n",
    "(usually something that is `numpy`-compatible), run the inference, then\n",
    "convert-and-truncate back into the awkward array syntax required for the\n",
    "analysis chain to continue. With awkward arrays' laziness now being handled\n",
    "entirely by [`dask`][dask_awkward], the conversion operation of awkward array to\n",
    "other array types needs to be wrapped in a way that is understandable to `dask`.\n",
    "The packages in the `ml_tools` package attempts to wrap the common tools used by\n",
    "the HEP community with a common interface to reduce the verbosity of the code on\n",
    "the analysis side.\n",
    "\n",
    "[dask_awkward]: https://dask-awkward.readthedocs.io/en/stable/gs-limitations.html\n",
    "\n"
   ]
  },
  {
   "cell_type": "markdown",
   "metadata": {},
   "source": [
    "## Example using ParticleNet-like jet variable calculation using PyTorch\n",
    "\n",
    "The example given in this notebook be using [`pytorch`][pytorch] to calculate a\n",
    "jet-level discriminant using its constituent particles. An example for how to\n",
    "construct such a `pytorch` network can be found in the docs file, but for\n",
    "`mltools` in coffea, we only support the [TorchScript][pytorch] format files to\n",
    "load models to ensure operability when scaling to clusters. Let us first start\n",
    "by downloading the example ParticleNet model file and a small PFNano compatible\n",
    "file.\n",
    "\n",
    "\n",
    "[pytorch]: https://pytorch.org/\n",
    "[pytorch_jit]: https://pytorch.org/tutorials/beginner/saving_loading_models.html#export-load-model-in-torchscript-format\n"
   ]
  },
  {
   "cell_type": "code",
   "execution_count": null,
   "metadata": {},
   "outputs": [],
   "source": [
    "!wget --quiet -O model.pt https://github.com/CoffeaTeam/coffea/raw/ml_tools/tests/samples/triton_models_test/pn_test/1/model.pt\n",
    "\n",
    "!wget --quiet -O pfnano.root https://github.com/CoffeaTeam/coffea/raw/ml_tools/tests/samples/pfnano.root\n"
   ]
  },
  {
   "cell_type": "markdown",
   "metadata": {},
   "source": [
    "Here we write a simple function for opening events, as well as create a simple\n",
    "function for creating a 4-vector compatible `Jet.pfCands` collection from the\n",
    "default `Jet.constituents`"
   ]
  },
  {
   "cell_type": "code",
   "execution_count": 1,
   "metadata": {},
   "outputs": [],
   "source": [
    "from coffea.nanoevents import NanoEventsFactory\n",
    "from coffea.nanoevents.schemas import PFNanoAODSchema\n",
    "\n",
    "\n",
    "def open_events(permit_dask=False):\n",
    "    import awkward\n",
    "    import dask_awkward\n",
    "\n",
    "    ak = dask_awkward if permit_dask else awkward\n",
    "\n",
    "    events = NanoEventsFactory.from_root(\n",
    "        \"file:./pfnano.root\",\n",
    "        schemaclass=PFNanoAODSchema,\n",
    "        permit_dask=permit_dask,\n",
    "    ).events()\n",
    "    jet = events.Jet\n",
    "    PFCands = events.PFCands[events.JetPFCands.pFCandsIdx]\n",
    "    njets = ak.count(jet.pt, axis=-1)\n",
    "    ncands = ak.flatten(jet.nConstituents)\n",
    "    jet[\"PFCands\"] = ak.unflatten(ak.unflatten(ak.flatten(PFCands), ncands), njets)\n",
    "    events[\"Jet\"] = jet\n",
    "    return events\n"
   ]
  },
  {
   "cell_type": "markdown",
   "metadata": {},
   "source": [
    "Now we prepare a class to handle inference request. Here we import the base\n",
    "`torch_wrapper` class and create a new class that inherits `torch_wrapper`. As\n",
    "the class cannot know anything about the data mangling required, we will need to\n",
    "overload at least the method `awkward_to_numpy`:\n",
    "\n",
    "- The input can be an arbitrary number of awkward arrays. Here we will be\n",
    "  passing in the event array in the format constructed as the format array.\n",
    "- The output should be single tuple `a` and single dictionary `b`, this is to\n",
    "  ensure that arbitrarily complicated outputs can be passed to the underlying\n",
    "  `pytorch` model instance like `model(*a, **b)`. The contents of `a` and `b`\n",
    "  will need to be determined by the model of interest. In this ParticleNet-like\n",
    "  example, the model expects the following inputs:\n",
    "\n",
    "  - A `N` jets x `2` coordinate x `100` constituents \"points\" array,\n",
    "    representing the constituent coordinates.\n",
    "  - A `N` jets x `5` feature x `100` constituents \"features\" array, representing\n",
    "    the constituent features of interest to be used for inference.\n",
    "  - A `N` jets x `1` mask x `100` constituent \"mask\" array, representing whether\n",
    "    a constituent should be masked from the inference request.\n",
    "\n",
    "  The user is also responsible to making sure the data format is compatible with\n",
    "  the model of interest. Defining this minimum class, we can attempt to run an\n",
    "  inference using the `__call__` method of our defined class.\n",
    "\n"
   ]
  },
  {
   "cell_type": "code",
   "execution_count": 2,
   "metadata": {},
   "outputs": [
    {
     "name": "stderr",
     "output_type": "stream",
     "text": [
      "/Users/lgray/coffea-dev/coffea/src/coffea/ml_tools/helper.py:154: UserWarning: No format checks were performed on input!\n",
      "  warnings.warn(\"No format checks were performed on input!\")\n"
     ]
    },
    {
     "name": "stdout",
     "output_type": "stream",
     "text": [
      "[[0.0693, -0.0448], [0.0678, -0.0451], ..., [0.0616, ...], [0.0587, -0.0172]]\n",
      "<class 'awkward.highlevel.Array'>\n",
      "<bound method Array.__repr__ of <Array [[0.0693, -0.0448], ..., [0.0587, -0.0172]] type='64 * 2 * float32'>>\n"
     ]
    }
   ],
   "source": [
    "from coffea.ml_tools.torch_wrapper import torch_wrapper\n",
    "import awkward as ak\n",
    "import numpy as np\n",
    "\n",
    "\n",
    "class ParticleNetExample1(torch_wrapper):\n",
    "    def prepare_awkward_to_numpy(self, events):\n",
    "        jets = ak.flatten(events.Jet)\n",
    "\n",
    "        def pad(arr):\n",
    "            return ak.fill_none(\n",
    "                ak.pad_none(arr, 100, axis=1, clip=True),\n",
    "                0.0,\n",
    "            )\n",
    "\n",
    "        # Human readable version of what the inputs are\n",
    "        # Each array is a N jets x 100 constituent array\n",
    "        imap = {\n",
    "            \"points\": {\n",
    "                \"deta\": pad(jets.eta - jets.PFCands.eta),\n",
    "                \"dphi\": pad(jets.delta_phi(jets.PFCands)),\n",
    "            },\n",
    "            \"features\": {\n",
    "                \"dr\": pad(jets.delta_r(jets.PFCands)),\n",
    "                \"lpt\": pad(np.log(jets.PFCands.pt)),\n",
    "                \"lptf\": pad(np.log(jets.PFCands.pt / jets.pt)),\n",
    "                \"f1\": pad(np.log(np.abs(jets.PFCands.d0) + 1)),\n",
    "                \"f2\": pad(np.log(np.abs(jets.PFCands.dz) + 1)),\n",
    "            },\n",
    "            \"mask\": {\n",
    "                \"mask\": pad(ak.ones_like(jets.PFCands.pt)),\n",
    "            },\n",
    "        }\n",
    "\n",
    "        # Compacting the array elements into the desired dimension using\n",
    "        # ak.concatenate\n",
    "        retmap = {\n",
    "            k: ak.concatenate([x[:, np.newaxis, :] for x in imap[k].values()], axis=1)\n",
    "            for k in imap.keys()\n",
    "        }\n",
    "\n",
    "        # Returning everything using a dictionary. Also take care of type\n",
    "        # conversion here.\n",
    "        return (), {\n",
    "            \"points\": ak.values_astype(retmap[\"points\"], \"float32\"),\n",
    "            \"features\": ak.values_astype(retmap[\"features\"], \"float32\"),\n",
    "            \"mask\": ak.values_astype(retmap[\"mask\"], \"float16\"),\n",
    "        }\n",
    "\n",
    "\n",
    "pn_example1 = ParticleNetExample1(\"model.pt\")\n",
    "events = open_events(permit_dask=False)\n",
    "results = pn_example1(events)\n",
    "print(results)\n",
    "print(type(results))\n",
    "print(results.__repr__)\n"
   ]
  },
  {
   "cell_type": "markdown",
   "metadata": {},
   "source": [
    "For each jet in the input to the `torch` model, the model returns a 2-tuple\n",
    "probability value. Without additional specification, the `torch_wrapper` class\n",
    "performs a trival conversion of `ak.from_numpy` of the torch model's output. We\n",
    "can specify that we want to fold this back into nested structure by overloading\n",
    "the `numpy_to_awkward` method of the class. \n",
    "\n",
    "For this example we are going perform additional computation for the conversion\n",
    "back to awkward array formats: \n",
    "\n",
    "- Calculate the `softmax` method for the return of each jet (commonly used for\n",
    "  ML output ``scores'')\n",
    "- Fold the computed `softmax` array back into nested structure that is\n",
    "  compatible with the original inputs events array.\n",
    "\n",
    "Notice that the inputs of the `numpy_to_awkward` method is different from the\n",
    "`awkward_to_numpy` method, only by that the first argument is the return `numpy`\n",
    "array of the model inference.\n"
   ]
  },
  {
   "cell_type": "code",
   "execution_count": 8,
   "metadata": {},
   "outputs": [
    {
     "name": "stdout",
     "output_type": "stream",
     "text": [
      "[[1.68e+03, 1.41e+03, 298, 85.9, 32.7, 16.3, 16.2, 15.8], ..., [1.58e+03, ...]]\n",
      "[[0.528, 0.528, 0.524, 0.523, 0.521, 0.52, 0.519, 0.519], ..., [0.528, ...]]\n"
     ]
    }
   ],
   "source": [
    "class ParticleNetExample2(ParticleNetExample1):\n",
    "    def numpy_to_awkward(self, return_array, events):\n",
    "        softmax = np.exp(return_array)[:, 0] / np.sum(np.exp(return_array), axis=-1)\n",
    "    \n",
    "        njets = ak.count(\n",
    "            ak.typetracer.length_one_if_typetracer(events.Jet.pt), \n",
    "            axis=-1\n",
    "        )\n",
    "        if ak.backend(events) == \"typetracer\":\n",
    "            njets = ak.full_like(njets, 1)\n",
    "        out = ak.unflatten(softmax, njets)\n",
    "        if ak.backend(events) == \"typetracer\":\n",
    "            out = ak.Array(\n",
    "                out.layout.to_typetracer(forget_length=True), \n",
    "                behavior=out.behavior\n",
    "            )\n",
    "        return out\n",
    "\n",
    "\n",
    "pn_example2 = ParticleNetExample2(\"model.pt\")\n",
    "jets = events.Jet\n",
    "jets[\"MLresults\"] = pn_example2(events)\n",
    "events[\"Jet\"] = jets\n",
    "\n",
    "print(events.Jet.pt)\n",
    "print(events.Jet.MLresults)\n"
   ]
  },
  {
   "cell_type": "markdown",
   "metadata": {},
   "source": [
    "Now we have a per-jet variable we can use to continue the event/object selection\n",
    "chain for our analysis! \n",
    "\n",
    "Notice that up till now, we have been working exclusively with plain awkward.\n",
    "But this class is already ready to be extended to dask awkward! The `__call__`\n",
    "method commonly knows how to handle the different array types.\n"
   ]
  },
  {
   "cell_type": "code",
   "execution_count": 9,
   "metadata": {},
   "outputs": [
    {
     "name": "stdout",
     "output_type": "stream",
     "text": [
      "[[0.528, 0.528, 0.524, 0.523, 0.521, 0.52, 0.519, 0.519], ..., [0.528, ...]]\n",
      "True\n",
      "{'from-uproot-56eb4fdb675ad421bf8d8d2de4d060d4': ['Jet.phi', 'PFCands.eta', 'Jet.eta', 'PFCands.dz', 'JetPFCands.pFCandsIdx', 'PFCands.d0', 'PFCands.phi', 'Jet.pt', 'PFCands.pt', 'Jet.nConstituents']}\n"
     ]
    }
   ],
   "source": [
    "import dask_awkward as dak\n",
    "\n",
    "# Creating a lazy dask array of events array with the same\n",
    "dask_events = open_events(permit_dask=True)\n",
    "\n",
    "# Syntax for dask arrays is identical to the plain awkward arrays!\n",
    "dask_jets = dask_events.Jet\n",
    "dask_jets[\"MLresults_dask\"] = pn_example2(dask_events)\n",
    "dask_events[\"Jet\"] = dask_jets\n",
    "\n",
    "# Checking that we get identical results\n",
    "print(dask_events.Jet.MLresults_dask.compute())\n",
    "print(ak.all(dask_events.Jet.MLresults_dask.compute() == events.Jet.MLresults))\n",
    "\n",
    "# Check which columns are loaded\n",
    "print(dak.necessary_columns(dask_events.Jet.MLresults_dask))\n"
   ]
  },
  {
   "cell_type": "markdown",
   "metadata": {},
   "source": [
    "The only remaining issue is that `dask` is currently loading all columns in the\n",
    "array that is passed to the `awkward_to_numpy` method, even those that are not\n",
    "required for the ML inference computation. While this behavior ensure that\n",
    "everything is loaded, leading to less room for errors to during the development\n",
    "of the `awkward_to_numpy` method, leaving this behavior unchanged can load to\n",
    "excessive memory usage, depending on how the event array is set up.\n",
    "\n",
    "To properly solve this behavior, one should further overload the `dask_columns`\n",
    "method to return a list of columns that is strictly needed by the inference\n",
    "tools. The inputs should be identical to that of the `awkward_to_numpy` method\n",
    "defined by the user. Notice how this cell is considerably faster than the\n",
    "previous. \n",
    "\n",
    "*Note:* as of writing, there is a [bug][bug] that causes the kernel to\n",
    "segmentation fault if the required branches are not included. If you are running\n",
    "into issues, it might be that you need to allow the class you are using to be\n",
    "slightly less lazy.\n",
    "\n",
    "[bug]: https://github.com/dask-contrib/dask-awkward/issues/249\n"
   ]
  },
  {
   "cell_type": "code",
   "execution_count": 10,
   "metadata": {},
   "outputs": [
    {
     "name": "stdout",
     "output_type": "stream",
     "text": [
      "[[0.528, 0.528, 0.524, 0.523, 0.521, 0.52, 0.519, 0.519], ..., [0.528, ...]]\n",
      "True\n",
      "{'from-uproot-b35da74861ba9635891601226bc0bcda': ['Jet.phi', 'PFCands.eta', 'Jet.eta', 'PFCands.dz', 'JetPFCands.pFCandsIdx', 'PFCands.d0', 'PFCands.phi', 'Jet.pt', 'PFCands.pt', 'Jet.nConstituents']}\n"
     ]
    }
   ],
   "source": [
    "class ParticleNetExample3(ParticleNetExample2):\n",
    "    pass # this example is no longer necessary!\n",
    "\n",
    "\n",
    "pn_example3 = ParticleNetExample3(\"model.pt\")\n",
    "\n",
    "# Reloading a lazy instance of the array\n",
    "dask_events = open_events(permit_dask=True)\n",
    "\n",
    "# Syntax for dask arrays is identical to the plain awkward arrays!\n",
    "dask_jets = dask_events.Jet\n",
    "dask_jets[\"MLresults_lazy\"] = pn_example3(dask_events)\n",
    "dask_events[\"Jet\"] = dask_jets\n",
    "\n",
    "# Checking that we get identical results\n",
    "print(dask_events.Jet.MLresults_lazy.compute())\n",
    "# Checking that we get identical results\n",
    "print(ak.all(dask_events.Jet.MLresults_lazy.compute() == events.Jet.MLresults))\n",
    "\n",
    "# Check which columns are loaded\n",
    "print(dak.necessary_columns(dask_events.Jet.MLresults_lazy))\n"
   ]
  },
  {
   "cell_type": "markdown",
   "metadata": {},
   "source": [
    "Of course, the implementation of the classes above can be written in a single\n",
    "class. Here is a copy-and-paste implementation of the class with all the\n",
    "functionality described in the cells above:"
   ]
  },
  {
   "cell_type": "code",
   "execution_count": 12,
   "metadata": {},
   "outputs": [
    {
     "name": "stdout",
     "output_type": "stream",
     "text": [
      "[[0.528, 0.528, 0.524, 0.523, 0.521, 0.52, 0.519, 0.519], ..., [0.528, ...]]\n",
      "{'from-uproot-677376b5bab4d79c2a28f905153d2532': ['Jet.phi', 'PFCands.eta', 'Jet.eta', 'PFCands.dz', 'JetPFCands.pFCandsIdx', 'PFCands.d0', 'PFCands.phi', 'Jet.pt', 'PFCands.pt', 'Jet.nConstituents']}\n"
     ]
    }
   ],
   "source": [
    "class ParticleNetExample(torch_wrapper):\n",
    "    def prepare_awkward_to_numpy(self, events):\n",
    "        jets = ak.flatten(events.Jet)\n",
    "\n",
    "        def pad(arr):\n",
    "            return ak.fill_none(\n",
    "                ak.pad_none(arr, 100, axis=1, clip=True),\n",
    "                0.0,\n",
    "            )\n",
    "\n",
    "        # Human readable version of what the inputs are\n",
    "        # Each array is a N jets x 100 constituent array\n",
    "        imap = {\n",
    "            \"points\": {\n",
    "                \"deta\": pad(jets.eta - jets.PFCands.eta),\n",
    "                \"dphi\": pad(jets.delta_phi(jets.PFCands)),\n",
    "            },\n",
    "            \"features\": {\n",
    "                \"dr\": pad(jets.delta_r(jets.PFCands)),\n",
    "                \"lpt\": pad(np.log(jets.PFCands.pt)),\n",
    "                \"lptf\": pad(np.log(jets.PFCands.pt / jets.pt)),\n",
    "                \"f1\": pad(np.log(np.abs(jets.PFCands.d0) + 1)),\n",
    "                \"f2\": pad(np.log(np.abs(jets.PFCands.dz) + 1)),\n",
    "            },\n",
    "            \"mask\": {\n",
    "                \"mask\": pad(ak.ones_like(jets.PFCands.pt)),\n",
    "            },\n",
    "        }\n",
    "\n",
    "        # Compacting the array elements into the desired dimension using\n",
    "        # ak.concatenate\n",
    "        retmap = {\n",
    "            k: ak.concatenate([x[:, np.newaxis, :] for x in imap[k].values()], axis=1)\n",
    "            for k in imap.keys()\n",
    "        }\n",
    "\n",
    "        # Returning everything using a dictionary. Also take care of type\n",
    "        # conversion here.\n",
    "        return (), {\n",
    "            \"points\": ak.values_astype(retmap[\"points\"], \"float32\"),\n",
    "            \"features\": ak.values_astype(retmap[\"features\"], \"float32\"),\n",
    "            \"mask\": ak.values_astype(retmap[\"mask\"], \"float16\"),\n",
    "        }\n",
    "\n",
    "    def numpy_to_awkward(self, return_array, events):\n",
    "        softmax = np.exp(return_array)[:, 0] / np.sum(np.exp(return_array), axis=-1)\n",
    "\n",
    "        njets = ak.count(\n",
    "            ak.typetracer.length_one_if_typetracer(events.Jet.pt), \n",
    "            axis=-1\n",
    "        )\n",
    "        if ak.backend(events) == \"typetracer\":\n",
    "            njets = ak.full_like(njets, 1)\n",
    "        out = ak.unflatten(softmax, njets)\n",
    "        if ak.backend(events) == \"typetracer\":\n",
    "            out = ak.Array(\n",
    "                out.layout.to_typetracer(forget_length=True), \n",
    "                behavior=out.behavior\n",
    "            )\n",
    "        return ak.unflatten(softmax, njets)\n",
    "\n",
    "\n",
    "\n",
    "pn_example = ParticleNetExample(\"model.pt\")\n",
    "\n",
    "# Reloading a lazy instance of the array\n",
    "dask_events = open_events(permit_dask=True)\n",
    "\n",
    "# Syntax for dask arrays is identical to the plain awkward arrays!\n",
    "dask_jets = dask_events.Jet\n",
    "dask_jets[\"MLresults\"] = pn_example(dask_events)\n",
    "dask_events[\"Jet\"] = dask_jets\n",
    "\n",
    "# Checking that we get identical results\n",
    "print(dask_events.Jet.MLresults.compute())\n",
    "\n",
    "# Check which columns are loaded\n",
    "print(dak.necessary_columns(dask_events.Jet.MLresults))\n"
   ]
  },
  {
   "cell_type": "markdown",
   "metadata": {},
   "source": [
    "## Comments about generalizing to other ML tools\n",
    "\n",
    "All ML wrappers provided in the `coffea.mltools` module (`triton_wrapper` for\n",
    "[triton][triton] server inference, `torch_wrapper` for pytorch, and\n",
    "`xgboost_wrapper` for [xgboost][xgboost] inference) follow the same design:\n",
    "analyzers is responsible for providing the model of interest, along with\n",
    "providing an inherited class that overloads of the following methods to data\n",
    "type conversion:\n",
    "\n",
    "- `awkward_to_numpy`: converting awkward arrays to `numpy` arrays, the output\n",
    "  `numpy` arrays should be in the format of a tuple `a` and a dictionary `b`,\n",
    "  which can be expanded out to the input of the ML tool like `model(*a, **b)`.\n",
    "  Notice some additional trivial conversion (like converting to available\n",
    "  kernels for `pytorch`, converting to a matrix format for `xgboost`, and slice\n",
    "  of array for `triton` is handled automatically by the respective wrappers)\n",
    "- `numpy_to_awkward` (optional): converting the number results back to awkward\n",
    "  array format. If this is not provided, then a simple `ak.from_numpy`\n",
    "  conversion takes place.\n",
    "- `dask_columns` (optional but recommended): Given the inputs to the\n",
    "  `awkward_to_numpy` method, list the branches required for the inference\n",
    "  calculation. If not provided, it will attempt to load all branches\n",
    "  recursively, which may have significant performance penalties.\n",
    "\n",
    "If the ML tool of choice for your analysis has not been implemented by the\n",
    "`coffea.mltools` modules, consider constructing your own with the provided\n",
    "`numpy_call_wrapper` base class in `coffea.mltools`. Aside from the functions\n",
    "listed above, you will also need to provide the `numpy_call` method to perform\n",
    "any additional data format conversions, and call the ML tool of choice. If you\n",
    "think your implementation is general, also consider submitting a PR to the\n",
    "`coffea` repository!\n",
    "\n",
    "[triton]: https://catalog.ngc.nvidia.com/orgs/nvidia/containers/tritonserver\n",
    "[xgboost]: https://xgboost.readthedocs.io/en/stable/\n"
   ]
  }
 ],
 "metadata": {
  "kernelspec": {
   "display_name": "Python 3 (ipykernel)",
   "language": "python",
   "name": "python3"
  },
  "language_info": {
   "codemirror_mode": {
    "name": "ipython",
    "version": 3
   },
   "file_extension": ".py",
   "mimetype": "text/x-python",
   "name": "python",
   "nbconvert_exporter": "python",
   "pygments_lexer": "ipython3",
   "version": "3.8.13"
  }
 },
 "nbformat": 4,
 "nbformat_minor": 4
}
