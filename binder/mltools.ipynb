{
 "cells": [
  {
   "attachments": {},
   "cell_type": "markdown",
   "metadata": {},
   "source": [
    "# Running inference tools\n",
    "\n",
    "As machine learning (ML) becomes more popular in HEP analysis, coffea also\n",
    "provide tools to assist with using ML tools within the coffea framework. For\n",
    "training and validation, you would likely need custom data mangling tools to\n",
    "convert standard CMS data formats ([NanoAOD][nanoaod], [PFNano][pfnano]) to a\n",
    "format that best interfaces with the ML tool of choice to have fine control over\n",
    "what is done. For more advanced use cases of data mangling and data saving,\n",
    "refer to the [awkward array manual][datamangle] and\n",
    "[uproot][uproot_write]/[parquet][ak_parquet] write operations for saving\n",
    "intermediate states. This reference mainly focuses on the result inference side\n",
    "of ML tools, where ML tool outputs are used as another variable to be used in\n",
    "the event/object selection chain.\n",
    "\n",
    "[nanoaod]: https://twiki.cern.ch/twiki/bin/view/CMSPublic/WorkBookNanoAOD\n",
    "[pfnano]: https://github.com/cms-jet/PFNano\n",
    "[datamangle]: https://awkward-array.org/doc/main/user-guide/how-to-restructure.html\n",
    "[uproot_write]: https://uproot.readthedocs.io/en/latest/basic.html#writing-ttrees-to-a-file\n",
    "[ak_parquet]: https://awkward-array.org/doc/main/reference/generated/ak.to_parquet.html\n"
   ]
  },
  {
   "attachments": {},
   "cell_type": "markdown",
   "metadata": {},
   "source": [
    "## Why these wrapper tools are needed\n",
    "\n",
    "The typical operation of using ML inference tools in the awkward/coffea analysis\n",
    "tools involves the conversion and padding of awkward array to ML tool containers\n",
    "(usually something that is `numpy`-compatible), run the inference, then\n",
    "convert-and-truncate back into the awkward array syntax required for the\n",
    "analysis chain to continue. With awkward arrays' laziness now being handled\n",
    "entirely by [`dask`][dask_awkward], the conversion operation of awkward array to\n",
    "other array types needs to be wrapped in a way that is understandable to `dask`.\n",
    "The packages in the `ml_tools` package attempts to wrap the common tools used by\n",
    "the HEP community with a common interface to reduce the verbosity of the code on\n",
    "the analysis side.\n",
    "\n",
    "[dask_awkward]: https://dask-awkward.readthedocs.io/en/stable/gs-limitations.html\n",
    "\n"
   ]
  },
  {
   "attachments": {},
   "cell_type": "markdown",
   "metadata": {},
   "source": [
    "## Example using ParticleNet-like jet variable calculation using PyTorch\n",
    "\n",
    "The example given in this notebook be using [`pytorch`][pytorch] to calculate a\n",
    "jet-level discriminant using its constituent particles. An example for how to\n",
    "construct such a `pytorch` network can be found in the docs file, but for\n",
    "`mltools` in coffea, we only support the [TorchScript][pytorch] format files to\n",
    "load models to ensure operability when scaling to clusters. Let us first start\n",
    "by downloading the example ParticleNet model file and a small PFNano compatible\n",
    "file.\n",
    "\n",
    "\n",
    "[pytorch]: https://pytorch.org/\n",
    "[pytorch_jit]: https://pytorch.org/tutorials/beginner/saving_loading_models.html#export-load-model-in-torchscript-format\n"
   ]
  },
  {
   "cell_type": "code",
   "execution_count": 1,
   "metadata": {},
   "outputs": [],
   "source": [
    "!wget --quiet -O model.pt https://github.com/CoffeaTeam/coffea/raw/ml_tools/tests/samples/triton_models_test/pn_test/1/model.pt\n",
    "\n",
    "!wget --quiet -O pfnano.root https://github.com/CoffeaTeam/coffea/raw/ml_tools/tests/samples/pfnano.root\n"
   ]
  },
  {
   "attachments": {},
   "cell_type": "markdown",
   "metadata": {},
   "source": [
    "Here we write a simple function for opening events, as well as create a simple\n",
    "function for creating a 4-vector compatible `Jet.pfCands` collection from the\n",
    "default `Jet.constituents`"
   ]
  },
  {
   "cell_type": "code",
   "execution_count": 2,
   "metadata": {},
   "outputs": [],
   "source": [
    "from coffea.nanoevents import NanoEventsFactory\n",
    "from coffea.nanoevents.schemas import PFNanoAODSchema\n",
    "\n",
    "\n",
    "def open_events(permit_dask=False):\n",
    "    import awkward\n",
    "    import dask_awkward\n",
    "\n",
    "    ak = dask_awkward if permit_dask else awkward\n",
    "\n",
    "    events = NanoEventsFactory.from_root(\n",
    "        \"file:./pfnano.root\",\n",
    "        schemaclass=PFNanoAODSchema,\n",
    "        permit_dask=permit_dask,\n",
    "    ).events()\n",
    "    jet = events.Jet\n",
    "    PFCands = events.PFCands[events.JetPFCands.pFCandsIdx]\n",
    "    njets = ak.count(jet.pt, axis=-1)\n",
    "    ncands = ak.flatten(jet.nConstituents)\n",
    "    jet[\"PFCands\"] = ak.unflatten(ak.unflatten(ak.flatten(PFCands), ncands), njets)\n",
    "    events[\"Jet\"] = jet\n",
    "    return events\n"
   ]
  },
  {
   "attachments": {},
   "cell_type": "markdown",
   "metadata": {},
   "source": [
    "Now we prepare a class to handle inference request. Here we import the base\n",
    "`torch_wrapper` class and create a new class that inherits `torch_wrapper`. As\n",
    "the class cannot know anything about the data mangling required, we will need to\n",
    "overload at least the method `awkward_to_numpy`:\n",
    "\n",
    "- The input can be an arbitrary number of awkward arrays. Here we will be\n",
    "  passing in the event array in the format constructed as the format array.\n",
    "- The output should be single tuple `a` and single dictionary `b`, this is to\n",
    "  ensure that arbitrarily complicated outputs can be passed to the underlying\n",
    "  `pytorch` model instance like `model(*a, **b)`. The contents of `a` and `b`\n",
    "  will need to be determined by the model of interest. In this ParticleNet-like\n",
    "  example, the model expects the following inputs:\n",
    "\n",
    "  - A `N` jets x `2` coordinate x `100` constituents \"points\" array,\n",
    "    representing the constituent coordinates.\n",
    "  - A `N` jets x `5` feature x `100` constituents \"features\" array, representing\n",
    "    the constituent features of interest to be used for inference.\n",
    "  - A `N` jets x `1` mask x `100` constituent \"mask\" array, representing whether\n",
    "    a constituent should be masked from the inference request.\n",
    "\n",
    "  The user is also responsible to making sure the data format is compatible with\n",
    "  the model of interest. Defining this minimum class, we can attempt to run an\n",
    "  inference using the `__call__` method of our defined class.\n",
    "\n"
   ]
  },
  {
   "cell_type": "code",
   "execution_count": 3,
   "metadata": {},
   "outputs": [
    {
     "name": "stderr",
     "output_type": "stream",
     "text": [
      "/home/ensc/VirtualENV/coffea-test/lib/python3.8/site-packages/coffea/ml_tools/helper.py:155: UserWarning: No format checks were performed on input!\n",
      "  warnings.warn(\"No format checks were performed on input!\")\n"
     ]
    },
    {
     "name": "stdout",
     "output_type": "stream",
     "text": [
      "[[0.0693, -0.0448], [0.0678, -0.0451], ..., [0.0616, ...], [0.0587, -0.0172]]\n",
      "<class 'awkward.highlevel.Array'>\n",
      "<bound method Array.__repr__ of <Array [[0.0693, -0.0448], ..., [0.0587, -0.0172]] type='64 * 2 * float32'>>\n"
     ]
    }
   ],
   "source": [
    "from coffea.ml_tools.torch_wrapper import torch_wrapper\n",
    "import awkward as ak\n",
    "import numpy as np\n",
    "\n",
    "\n",
    "class ParticleNetExample1(torch_wrapper):\n",
    "    def awkward_to_numpy(self, events):\n",
    "        jets = ak.flatten(events.Jet)\n",
    "\n",
    "        def pad(arr):\n",
    "            return ak.fill_none(\n",
    "                ak.pad_none(arr, 100, axis=1, clip=True),\n",
    "                0.0,\n",
    "            )\n",
    "\n",
    "        # Human readable version of what the inputs are\n",
    "        # Each array is a N jets x 100 constituent array\n",
    "        imap = {\n",
    "            \"points\": {\n",
    "                \"deta\": pad(jets.eta - jets.PFCands.eta),\n",
    "                \"dphi\": pad(jets.delta_phi(jets.PFCands)),\n",
    "            },\n",
    "            \"features\": {\n",
    "                \"dr\": pad(jets.delta_r(jets.PFCands)),\n",
    "                \"lpt\": pad(np.log(jets.PFCands.pt)),\n",
    "                \"lptf\": pad(np.log(jets.PFCands.pt / jets.pt)),\n",
    "                \"f1\": pad(np.log(np.abs(jets.PFCands.d0) + 1)),\n",
    "                \"f2\": pad(np.log(np.abs(jets.PFCands.dz) + 1)),\n",
    "            },\n",
    "            \"mask\": {\n",
    "                \"mask\": pad(ak.ones_like(jets.PFCands.pt)),\n",
    "            },\n",
    "        }\n",
    "\n",
    "        # Compacting the array elements into the desired dimension using\n",
    "        # ak.concatenate\n",
    "        retmap = {\n",
    "            k: ak.concatenate([x[:, np.newaxis, :] for x in imap[k].values()], axis=1)\n",
    "            for k in imap.keys()\n",
    "        }\n",
    "\n",
    "        # Returning everything using a dictionary. Also take care of type\n",
    "        # conversion here.\n",
    "        return (), {\n",
    "            \"points\": ak.values_astype(retmap[\"points\"], \"float32\").to_numpy(),\n",
    "            \"features\": ak.values_astype(retmap[\"features\"], \"float32\").to_numpy(),\n",
    "            \"mask\": ak.values_astype(retmap[\"mask\"], \"float16\").to_numpy(),\n",
    "        }\n",
    "\n",
    "\n",
    "pn_example1 = ParticleNetExample1(\"model.pt\")\n",
    "events = open_events(permit_dask=False)\n",
    "results = pn_example1(events)\n",
    "print(results)\n",
    "print(type(results))\n",
    "print(results.__repr__)\n"
   ]
  },
  {
   "attachments": {},
   "cell_type": "markdown",
   "metadata": {},
   "source": [
    "For each jet in the input to the `torch` model, the model returns a 2-tuple\n",
    "probability value. Without additional specification, the `torch_wrapper` class\n",
    "performs a trival conversion of `ak.from_numpy` of the torch model's output. We\n",
    "can specify that we want to fold this back into nested structure by overloading\n",
    "the `numpy_to_awkward` method of the class. \n",
    "\n",
    "For this example we are going perform additional computation for the conversion\n",
    "back to awkward array formats: \n",
    "\n",
    "- Calculate the `softmax` method for the return of each jet (commonly used for\n",
    "  ML output ``scores'')\n",
    "- Fold the computed `softmax` array back into nested structure that is\n",
    "  compatible with the original inputs events array.\n",
    "\n",
    "Notice that the inputs of the `numpy_to_awkward` method is different from the\n",
    "`awkward_to_numpy` method, only by that the first argument is the return `numpy`\n",
    "array of the model inference.\n"
   ]
  },
  {
   "cell_type": "code",
   "execution_count": 4,
   "metadata": {},
   "outputs": [
    {
     "name": "stdout",
     "output_type": "stream",
     "text": [
      "[[1.68e+03, 1.41e+03, 298, 85.9, 32.7, 16.3, 16.2, 15.8], ..., [1.58e+03, ...]]\n",
      "[[0.528, 0.528, 0.524, 0.523, 0.521, 0.52, 0.519, 0.519], ..., [0.528, ...]]\n"
     ]
    }
   ],
   "source": [
    "class ParticleNetExample2(ParticleNetExample1):\n",
    "    def numpy_to_awkward(self, return_array, events):\n",
    "        softmax = np.exp(return_array)[:, 0] / np.sum(np.exp(return_array), axis=-1)\n",
    "\n",
    "        njets = ak.count(events.Jet.pt, axis=-1)\n",
    "        return ak.unflatten(softmax, njets)\n",
    "\n",
    "\n",
    "pn_example2 = ParticleNetExample2(\"model.pt\")\n",
    "jets = events.Jet\n",
    "jets[\"MLresults\"] = pn_example2(events)\n",
    "events[\"Jet\"] = jets\n",
    "\n",
    "print(events.Jet.pt)\n",
    "print(events.Jet.MLresults)\n"
   ]
  },
  {
   "attachments": {},
   "cell_type": "markdown",
   "metadata": {},
   "source": [
    "Now we have a per-jet variable we can use to continue the event/object selection\n",
    "chain for our analysis! \n",
    "\n",
    "Notice that up till now, we have been working exclusively with plain awkward.\n",
    "But this class is already ready to be extended to dask awkward! The `__call__`\n",
    "method commonly knows how to handle the different array types.\n"
   ]
  },
  {
   "cell_type": "code",
   "execution_count": 5,
   "metadata": {},
   "outputs": [
    {
     "name": "stderr",
     "output_type": "stream",
     "text": [
      "/home/ensc/VirtualENV/coffea-test/lib/python3.8/site-packages/dask_awkward/lib/structure.py:751: UserWarning: Please ensure that dask.awkward<flatten, npartitions=1>\n",
      "        is partitionwise-compatible with dask.awkward<flatten, npartitions=1>\n",
      "        (e.g. counts comes from a dak.num(array, axis=1)),\n",
      "        otherwise this unflatten operation will fail when computed!\n",
      "  warnings.warn(\n",
      "/home/ensc/VirtualENV/coffea-test/lib/python3.8/site-packages/dask_awkward/lib/structure.py:751: UserWarning: Please ensure that dask.awkward<count, npartitions=1>\n",
      "        is partitionwise-compatible with dask.awkward<unflatten, npartitions=1>\n",
      "        (e.g. counts comes from a dak.num(array, axis=1)),\n",
      "        otherwise this unflatten operation will fail when computed!\n",
      "  warnings.warn(\n",
      "/home/ensc/VirtualENV/coffea-test/lib/python3.8/site-packages/coffea/ml_tools/helper.py:306: UserWarning: Touching all columns recursively may have performance penaltiesConsider overloading the dask_columns method of ParticleNetExample2\n",
      "  warnings.warn(\n"
     ]
    },
    {
     "name": "stdout",
     "output_type": "stream",
     "text": [
      "[[0.528, 0.528, 0.524, 0.523, 0.521, 0.52, 0.519, 0.519], ..., [0.528, ...]]\n",
      "True\n",
      "{'from-uproot-7a69c3c00169cd8f8875c60e974fcac3': ['L1.IsoTau40er_ETM105', 'HLT.PFJetFwd60', 'FsrPhoton.muonIdx', 'IsoTrack.pfRelIso03_chg', 'FatJet.n2b1', 'Jet.nCHadrons', 'HLT.L2Mu40_NoVertex_3Sta_NoBPTX3BX', 'FatJet.DDX_tau2_flightDistance2dSig', 'SubGenJetAK8.pt', 'GenPart.distinctChildrenDeepIdxG', 'FatJetPFCands.pFCandsIdx', 'HLT.Ele24_eta2p1_WPTight_Gsf_LooseChargedIsoPFTau30_eta2p1_CrossL1', 'MET.sumEt', 'L1.ETT50_BptxAND', 'HLT.Dimuon25_Jpsi', 'GenFatJetSVs.jetIdx', 'L1.DoubleJet60er2p7_ETM90', 'L1.SingleMu25', 'L1.SingleMuCosmics_EMTF', 'HLT.Dimuon0_Jpsi_NoVertexing_L1_4R_0er1p5R', 'HLT.Ele200_CaloIdVT_GsfTrkIdT', 'L1.DoubleJet30_Mass_Min340_dEta_Max1p5', 'L1.SingleIsoEG34', 'Electron.mvaFall17V1noIso_WPL', 'L1.SingleMu11_LowQ', 'SubJet.phi', 'HLT.Mu8_TrkIsoVVL_Ele23_CaloIdL_TrackIdL_IsoVL_DZ', 'HLT.AK8PFJetFwd400', 'PFCands.pvAssocQuality', 'HLT.Mu50', 'HLT.AK8PFJet140', 'Tau.decayMode', 'HLT.DoubleLooseChargedIsoPFTau40_Trk1_TightID_eta2p1_Reg', 'Tau.leadTkPtOverTauPt', 'HLT.DoubleMediumChargedIsoPFTau35_Trk1_eta2p1_Reg', 'HLT.PFHT780', 'HLT.Mu12_DoublePFJets40_CaloBTagCSV_p33', 'Electron.mvaFall17V1Iso', 'Electron.cutBased_HEEP', 'HLT.Dimuon24_Upsilon_noCorrL1', 'HLT.IsoMu24_eta2p1_MediumChargedIsoPFTau20_TightID_SingleL1', 'HLT.CaloMHT90', 'Photon.mass', 'FatJet.pt', 'HLT.PFJet80', 'FatJetPFCands.btagSip3dVal', 'Electron.mvaFall17V2Iso_WP90', 'HLT.PFMET110_PFMHT110_IDTight', 'HLT.ZeroBias_LastCollisionInTrain', 'L1.Mu5_LooseIsoEG18', 'HLT.DiPFJetAve200', 'GenIsolatedPhoton.pt', 'FatJet.particleNetMD_Xqq', 'HLT.Photon90_CaloIdL_PFHT700', 'HLT.PFJetFwd320', 'HLT.AK8PFHT800_TrimMass50', 'HLT.DoubleMediumChargedIsoPFTau40_Trk1_eta2p1_Reg', 'Generator.id2', 'HLT.Mu18_Mu9_SameSign_DZ', 'HLT.ZeroBias_FirstCollisionInTrain', 'PV.score', 'HLT.Ele20_WPTight_Gsf', 'L1.SingleIsoEG18', 'L1.ETM100', 'Jet.DeepCSV_trackSip2dSig_0', 'HLT.DoubleMediumChargedIsoPFTau40_Trk1_TightID_eta2p1_Reg', 'Jet.chFPV1EF', 'L1.DoubleJet112er2p3_dEta_Max1p6', 'HLT.DoublePFJets40_CaloBTagCSV_p33', 'Flag.BadChargedCandidateFilter', 'L1.IsoTau40er_ETMHF100', 'FatJetPFCands.btagEtaRel', 'Jet.DeepCSV_vertexMass', 'FatJet.DDX_trackSip3dSig_1', 'HLT.Photon90', 'L1.SingleIsoEG34er2p1', 'GenJetAK8.pt', 'L1.ETT90_BptxAND', 'GenPart.childrenIdxG', 'FatJetSVs.sVIdx', 'HLT.DoubleLooseChargedIsoPFTau35_Trk1_eta2p1_Reg', 'PV.npvs', 'Tau.genPartIdx', 'Jet.DeepCSV_trackDecayLenVal_1', 'L1.SingleMuCosmics_OMTF', 'Muon.mvaLowPt', 'SV.ntracks', 'SubJet.btagCSVV2', 'HLT.Mu20_Mu10_SameSign_DZ', 'Generator.id1', 'HLT.Photon75_R9Id90_HE10_IsoM', 'HLT.FullTrack_Multiplicity85', 'HLT.ZeroBias_part2', 'L1.HTT200er', 'FatJetPFCands.pt', 'MET.MetUnclustEnUpDeltaY', 'FatJet.DDX_tau1_vertexMass', 'JetSVs.costhetasvpv', 'HLT.CaloMET100_HBHECleaned', 'Electron.hoe', 'Jet.hfcentralEtaStripSize', 'PV.x', 'HLT.PFJetFwd500', 'Jet.chEmEF', 'L1.TripleJet_105_85_76_VBF', 'FatJet.phi', 'RawPuppiMET.pt', 'Muon.isTracker', 'HLT.Dimuon0_LowMass', 'HLT.DoubleMu3_Trk_Tau3mu', 'FatJet.deepTag_QCDothers', 'HLT.Dimuon14_Phi_Barrel_Seagulls', 'L1.SingleMu16er2p1', 'HLT.L1UnpairedBunchBptxMinus', 'HTXS.stage1_2_cat_pTjet25GeV', 'FatJet.particleNet_H4qvsQCD', 'Photon.cleanmask', 'HLT.PFJet400', 'SV.chi2', 'FatJet.btagHbb', 'Generator.xpdf2', 'FatJet.DDX_tau1_flightDistance2dSig', 'PuppiMET.phiUnclusteredUp', 'IsoTrack.pt', 'FatJetSVs.ptrel', 'HLT.Mu12_TrkIsoVVL_Ele23_CaloIdL_TrackIdL_IsoVL', 'L1.DoubleMu_20_2_SQ_Mass_Max20', 'L1.TripleMu0_OQ', 'L1.SingleMu20er2p1', 'SoftActivityJet.eta', 'Electron.dr03HcalDepth1TowerSumEt', 'HTXS.stage_1_pTjet25', 'Muon.fsrPhotonIdxG', 'Photon.genPartIdx', 'Pileup.gpudensity', 'IsoTrack.pfRelIso03_all', 'Electron.jetPtRelv2', 'FatJet.electronIdx3SJ', 'HLT.TripleJet110_35_35_Mjj650_PFMET130', 'HLT.Diphoton30PV_18PV_R9Id_AND_IsoCaloId_AND_HE_R9Id_NoPixelVeto_Mass55', 'L1.Mu10er2p3_Jet32er2p3_dR_Max0p4_DoubleJet32er2p3_dEta_Max1p6', 'GenMET.pt', 'L1.DoubleMu4p5_SQ_OS_dR_Max1p2', 'L1.ETMHF80_Jet90_OR_DoubleJet45_OR_TripleJet30', 'L1.TripleMu_4_4_4', 'Jet.hadronFlavour', 'HLT.AK4PFJet30', 'HLT.DiJet110_35_Mjj650_PFMET130', 'HLT.CaloMET100_NotCleaned', 'CaloMET.pt', 'Jet.DeepCSV_vertexCategory', 'GenJet.eta', 'HLT.Mu7p5_L2Mu2_Upsilon', 'HLT.IsoMu24_eta2p1_TightChargedIsoPFTau20_TightID_SingleL1', 'Electron.vidNestedWPBitmap', 'HLT.MediumChargedIsoPFTau180HighPtRelaxedIso_Trk50_eta2p1_1pr', 'JetSVs.mass', 'L1.DoubleEG8er2p6_HTT255er', 'L1.SingleEG24', 'FatJet.DDX_tau2_vertexMass', 'HLT.IsoMu24_eta2p1_MediumChargedIsoPFTau35_Trk1_eta2p1_Reg_CrossL1', 'HLT.Ele28_HighEta_SC20_Mass55', 'SubJet.n2b1', 'L1.BPTX_BeamGas_B1_VME', 'L1.SingleJet90_FWD', 'PFCands.puppiWeightNoLep', 'Photon.electronVeto', 'HLT.Dimuon0_Upsilon_L1_5M', 'SV.pt', 'HLT.Mu20_TkMu0_Phi', 'HLT.PFJet40', 'Jet.DeepCSV_trackPtRel_5', 'L1.SingleMu18er2p1', 'L1.DoubleEG6_HTT240er', 'L1.Mu18er2p1_Tau24er2p1', 'L1.LooseIsoEG28er2p1_Jet34er2p7_dR_Min0p3', 'Jet.DeepCSV_trackPtRatio_5', 'PuppiMET.phiUnclusteredDown', 'HLT.UncorrectedJetE30_NoBPTX', 'PFCands.d0Err', 'Jet.puId', 'L1.ETM90_Jet60_dPhi_Min0p4', 'FatJet.nCHadrons', 'HLT.Ele17_CaloIdM_TrackIdM_PFJet30', 'HLT.HT430_DisplacedDijet80_DisplacedTrack', 'L1.TripleJet_88_72_56_VBF', 'L1.SingleTau130er2p1', 'L1.DoubleJet35_rmovlp_IsoTau45_Mass_Min450', 'Muon.inTimeMuon', 'HLT.HISinglePhoton30_Eta3p1ForPPRef', 'HLT.QuadPFJet111_90_80_15_BTagCSV_p013_VBF2', 'FatJetSVs.jetIdxG', 'TrigObj.l1pt', 'L1.IsoTau40er_ETMHF110', 'HLT.DoubleEle25_CaloIdL_MW', 'HLT.Physics_part2', 'HLT.PFJet500', 'HLT.DiPFJetAve220_HFJEC', 'JetPFCands.pFCandsIdx', 'L1.Mu12er2p3_Jet40er2p3_dR_Max0p4_DoubleJet40er2p3_dEta_Max1p6', 'Muon.ip3d', 'Jet.electronIdx1G', 'L1.HTT320er_QuadJet_70_55_40_40_er2p4', 'HLT.L2Mu10', 'IsoTrack.dxy', 'TrigObj.eta', 'CorrT1METJet.muonSubtrFactor', 'HLT.PFHT890', 'GenIsolatedPhoton.eta', 'HLT.TrkMu12_DoubleTrkMu5NoFiltersNoVtx', 'Jet.DeepCSV_jetNSecondaryVertices', 'FatJet.tau3', 'L1.DoubleMu_10_0_dEta_Max1p8', 'L1.BPTX_AND_Ref4_VME', 'HLT.Photon60_HoverELoose', 'HLT.PFHT500_PFMET100_PFMHT100_IDTight', 'HLT.QuadPFJet98_83_71_15', 'FatJet.genJetAK8Idx', 'JetSVs.dxy', 'L1.SingleEG32', 'L1.SingleTau80er2p1', 'L1.ZeroBias', 'HLT.SingleJet30_Mu12_SinglePFJet40', 'HLT.Ele32_WPTight_Gsf', 'HLT.Tau3Mu_Mu7_Mu1_TkMu1_Tau15', 'L1PreFiringWeight.Dn', 'L1.ETMHF110_HTT60er', 'Photon.r9', 'SubJet.eta', 'Electron.mvaFall17V1noIso_WP90', 'HLT.PFJet200', 'L1.DoubleMu4_SQ_OS', 'HLT.Photon33', 'Flag.ecalLaserCorrFilter', 'HLT.Mu18_Mu9_SameSign', 'L1.DoubleIsoTau35er2p1', 'L1.DoubleIsoTau36er2p1', 'Muon.genPartIdxG', 'DeepMETResolutionTune.pt', 'HLT.AK8PFJetFwd450', 'PV.y', 'HLT.DoubleMu4_LowMassNonResonantTrk_Displaced', 'Flag.EcalDeadCellBoundaryEnergyFilter', 'L1.TripleEG_LooseIso20_10_5', 'L1.DoubleJet40er2p7', 'Electron.cutBased_Fall17_V1', 'HLT.QuadPFJet111_90_80_15_DoubleBTagCSV_p013_p08_VBF1', 'L1.Mu7_EG23', 'HLT.Mu15_IsoVVVL_PFHT600', 'FatJet.particleNet_HbbvsQCD', 'HLT.VBF_DoubleLooseChargedIsoPFTau20_Trk1_eta2p1_Reg', 'L1.SingleJet60_HFp', 'HLT.IsoMu24_eta2p1_LooseChargedIsoPFTau35_Trk1_TightID_eta2p1_Reg_CrossL1', 'HLT.MediumChargedIsoPFTau50_Trk30_eta2p1_1pr_MET90', 'HLT.Mu8_DiEle12_CaloIdL_TrackIdL_DZ', 'HLT.Mu7p5_Track7_Jpsi', 'Flag.METFilters', 'HLT.Mu17_Photon30_IsoCaloId', 'Jet.neEmEF', 'HLT.QuadPFJet105_88_76_15_BTagCSV_p013_VBF2', 'L1.ETMHF100_Jet60_OR_DoubleJet30', 'GenFatJetSVs.sVIdx', 'HLT.DoubleMu4_JpsiTrk_Displaced', 'GenVisTau.genPartIdxMotherG', 'HLT.Mu17', 'MET.covXY', 'HLT.IsoMu24_eta2p1_LooseChargedIsoPFTau20_SingleL1', 'TrigObj.l2pt', 'SV.ndof', 'HLT.TrkMu17_DoubleTrkMu8NoFiltersNoVtx', 'HLT.DiPFJet25_FBEta3_NoCaloMatched', 'HLT.Dimuon18_PsiPrime', 'HLT.Mu7p5_L2Mu2_Jpsi', 'TrigObj.filterBits', 'Jet.btagDeepFlavUDS', 'HLT.Dimuon0_Jpsi3p5_Muon2', 'Muon.charge', 'HLT.Ele115_CaloIdVT_GsfTrkIdT', 'L1.QuadJet36er2p7_Tau52', 'L1.ETT85_BptxAND', 'Tau.idAntiMu', 'L1.BPTX_AND_Ref1_VME', 'L1.ETM150', 'HLT.IsoMu24_eta2p1_LooseChargedIsoPFTau20_TightID_SingleL1', 'run', 'L1.SingleIsoEG28er2p1', 'L1.DoubleMu_15_7_SQ_Mass_Min4', 'HLT.PFJetFwd260', 'HLT.Photon120_R9Id90_HE10_IsoM', 'HLT.Mu7p5_Track2_Jpsi', 'L1.DoubleIsoTau30er2p1', 'HLT.Ele15_IsoVVVL_PFHT600', 'Jet.DeepCSV_trackDeltaR_1', 'L1.DoubleMu4p5er2p0_SQ_OS_Mass7to18', 'PFCands.trkQuality', 'Electron.jetRelIso', 'HLT.TrkMu16_DoubleTrkMu6NoFiltersNoVtx', 'PV.ndof', 'HLT.IsoMu20', 'GenVisTau.eta', 'HLT.MET120_IsoTrk50', 'IsoTrack.isFromLostTrack', 'L1.BptxPlus', 'FatJetSVs.deltaR', 'HLT.TripleJet110_35_35_Mjj650_PFMET120', 'L1.LooseIsoEG24er2p1_Jet26er2p7_dR_Min0p3', 'L1.DoubleMu7_SQ_EG7', 'HLT.DoubleEle33_CaloIdL_MW', 'FatJet.n3b1', 'Electron.eCorr', 'Tau.rawDeepTau2017v2p1VSmu', 'L1.ETM85', 'CaloMET.phi', 'HLT.Ele40_WPTight_Gsf', 'Electron.sieie', 'L1.DoubleMu3_SQ_ETMHF50_Jet60_OR_DoubleJet30', 'JetSVs.sVIdx', 'FatJet.DDX_tau2_trackSip3dSig_0', 'HLT.Mu8', 'Photon.pixelSeed', 'PFCands.d0', 'SubJet.btagDeepB', 'L1.SingleJet140', 'L1.SingleJet35', 'Electron.jetNDauCharged', 'HLT.ZeroBias_part5', 'SubJet.btagDeepC', 'genWeight', 'L1.DoubleJet100er2p3_dEta_Max1p6', 'L1.SingleJet20', 'CorrT1METJet.phi', 'L1.HTT250er_QuadJet_70_55_40_35_er2p5', 'L1.DoubleJet_90_30_DoubleJet30_Mass_Min620', 'Electron.phi', 'L1.DoubleJet112er2p7', 'Electron.tightCharge', 'Tau.idMVAoldDM', 'L1.QuadJet36er2p7_IsoTau52er2p1', 'HLT.Dimuon0_Upsilon_Muon_NoL1Mass', 'GenIsolatedPhoton.mass', 'HLT.TripleMu_10_5_5_DZ', 'IsoTrack.dz', 'Jet.DeepCSV_vertexEnergyRatio', 'L1.DoubleIsoTau33er2p1', 'HLT.L2Mu10_NoVertex_NoBPTX3BX', 'FatJet.DDX_tau2_trackEtaRel_1', 'HLT.DoublePFJets100MaxDeta1p6_DoubleCaloBTagCSV_p33', 'HLT.IsoMu27_TightChargedIsoPFTau20_SingleL1', 'L1.DoubleMu4_SQ_OS_dR_Max1p2', 'JetSVs.jetIdx', 'RawMET.pt', 'JetPFCands.jetIdx', 'Jet.btagDeepCvB', 'HLT.AK8PFJet320', 'GenFatJetCands.jetIdx', 'HLT.Mu12_DoublePFJets54MaxDeta1p6_DoubleCaloBTagCSV_p33', 'HLT.Physics_part3', 'MET.pt', 'HLT.Ele20_eta2p1_WPLoose_Gsf', 'L1.ETM95', 'HLT.DoubleIsoMu24_eta2p1', 'HLT.Dimuon0_Jpsi_L1_4R_0er1p5R', 'FatJet.nBHadrons', 'HLT.PFMETTypeOne110_PFMHT110_IDTight', 'HLT.Mu37_Ele27_CaloIdL_MW', 'FatJetSVs.phirel', 'L1.TripleMu_5_0_0', 'HLT.Mu7p5_Track3p5_Upsilon', 'L1.DoubleEG_25_14', 'PuppiMET.phiJERUp', 'GenJetSVs.sVIdx', 'btagWeight.DeepCSVB', 'L1.SingleJet120_FWD', 'GenDressedLepton.eta', 'L1.DoubleJet30_Mass_Min300_dEta_Max1p5', 'GenJet.pt', 'Jet.DeepCSV_trackSip3dValAboveCharm', 'Jet.rawFactor', 'L1.DoubleEG_22_10', 'PuppiMET.phi', 'JetSVs.phirel', 'Photon.phi', 'L1.SingleEG34', 'FatJet.btagDDCvL', 'Jet.DeepCSV_trackSip2dSigAboveCharm', 'Flag.EcalDeadCellTriggerPrimitiveFilter', 'PV.chi2', 'MET.phi', 'PFCands.dzErr', 'Jet.DeepCSV_trackSip3dSig_2', 'HLT.Photon50_HoverELoose', 'HLT.Mu7p5_Track7_Upsilon', 'Jet.DeepCSV_trackJetDistVal_2', 'HTXS.stage1_2_fine_cat_pTjet25GeV', 'FatJetSVs.normchi2', 'HLT.DoubleMu4_Mass8_DZ_PFHT350', 'IsoTrack.miniPFRelIso_chg', 'L1.ETM115', 'HLT.BTagMu_AK8Jet300_Mu5', 'SubJet.n3b1', 'HLT.TriplePhoton_30_30_10_CaloIdLV2', 'Muon.pfRelIso03_chg', 'HLT.PFHT800_PFMET85_PFMHT85_IDTight', 'HLT.Ele20_WPLoose_Gsf', 'Muon.pfIsoId', 'Muon.triggerIdLoose', 'PFCands.puppiWeight', 'Tau.pt', 'HLT.AK8PFHT750_TrimMass50', 'HLT.ZeroBias', 'Electron.r9', 'SubJet.subGenJetAK8Idx', 'Muon.sip3d', 'L1.LooseIsoEG24er2p1_TripleJet_26er2p7_26_26er2p7', 'GenDressedLepton.pdgId', 'L1.Mu7_LooseIsoEG23', 'FatJetSVs.pt', 'HLT.Ele50_CaloIdVT_GsfTrkIdT_PFJet165', 'JetPFCands.pt', 'FatJet.DDX_tau1_trackSip3dSig_1', 'FatJet.DDX_tau1_vertexDeltaR', 'HLT.AK8PFJet40', 'L1.TripleMu3', 'L1.IsolatedBunch', 'FatJet.subJetIdxG', 'HLT.VBF_DoubleTightChargedIsoPFTau20_Trk1_eta2p1_Reg', 'Jet.puIdDisc', 'HLT.PFJet60', 'Muon.miniPFRelIso_all', 'L1.IsoEG33_Mt48', 'HLT.DiJet110_35_Mjj650_PFMET110', 'MET.covXX', 'Muon.dz', 'L1.DoubleMu_12_8', 'HLT.CaloMET90_HBHECleaned', 'HLT.PFHT500_PFMET110_PFMHT110_IDTight', 'SubJet.subGenJetAK8IdxG', 'Muon.fsrPhotonIdx', 'L1.DoubleEG_25_13', 'HLT.DoubleMu43NoFiltersNoVtx', 'HLT.PFHT1050', 'Flag.CSCTightHaloFilter', 'HLT.TripleMu_5_3_3_Mass3p8to60_DCA', 'L1.SingleJet60', 'Electron.mvaFall17V2Iso_WPL', 'FatJet.btagDDCvLV2', 'HLT.PFHT250', 'GenJetCands.pFCandsIdx', 'PuppiMET.ptJERDown', 'Tau.leadTkDeltaPhi', 'FatJet.deepTagMD_TvsQCD', 'HLT.TripleMu_12_10_5', 'L1.ETM90', 'fixedGridRhoFastjetAll', 'L1.Mu23_LooseIsoEG10', 'Muon.jetNDauCharged', 'L1.IsoTau40er_ETMHF120', 'Jet.DeepCSV_flightDistance2dVal', 'GenCands.charge', 'FatJetSVs.ntracks', 'HLT.Ele15_IsoVVVL_PFHT450_PFMET50', 'HLT.FullTrack_Multiplicity100', 'L1.DoubleMu0er1p4_dEta_Max1p8_OS', 'FatJet.subJetIdx2G', 'GenVisTau.pt', 'Muon.jetIdxG', 'Jet.pFCandsIdxG', 'HLT.MediumChargedIsoPFTau50_Trk30_eta2p1_1pr_MET120', 'JetSVs.sVIdxG', 'L1.ETM40', 'Jet.electronIdx2G', 'Pileup.sumLOOT', 'HLT.BTagMu_AK4DiJet40_Mu5', 'FatJet.btagCSVV2', 'GenDressedLepton.hasTauAnc', 'Flag.HBHENoiseFilter', 'HLT.Mu8_Ele8_CaloIdM_TrackIdM_Mass8_PFHT350', 'Tau.rawMVAoldDM', 'L1.SingleIsoEG32', 'HLT.TriplePhoton_20_20_20_CaloIdLV2', 'Jet.DeepCSV_trackSip3dSig_5', 'HLT.DoubleMu20_7_Mass0to30_L1_DM4', 'Muon.nStations', 'L1.SingleJet20er2p7_NotBptxOR', 'HLT.AK4CaloJet30', 'FatJetPFCands.btagPtRatio', 'L1.IsoTau40er_ETM95', 'L1.SingleIsoEG26', 'L1.Mu18_HTT100er', 'HLT.MonoCentralPFJet80_PFMETNoMu140_PFMHTNoMu140_IDTight', 'L1.SingleTau120er2p1', 'HLT.AK8PFJet200', 'FatJet.deepTagMD_ZHbbvsQCD', 'Electron.pfRelIso03_all', 'HLT.PFMET140_PFMHT140_IDTight_CaloBTagCSV_3p1', 'Muon.mass', 'Jet.DeepCSV_trackDeltaR_2', 'Jet.DeepCSV_trackDecayLenVal_0', 'Jet.DeepCSV_trackEtaRel_3', 'L1Reco.step', 'L1.Mu22er2p1_IsoTau40er2p1', 'FatJet.DDX_jetNSecondaryVertices', 'HLT.DoubleMu3_DZ_PFMET90_PFMHT90', 'HLT.Mu23_Mu12_DZ', 'Jet.partonFlavour', 'L1.DoubleEG6_HTT250er', 'HLT.OldMu100', 'HLT.Dimuon0_Upsilon_L1_4p5er2p0', 'L1.ETM100_Jet60_dPhi_Min0p4', 'L1.ETM80_Jet60_dPhi_Min0p4', 'HLT.DoubleEle8_CaloIdM_TrackIdM_Mass8_PFHT350', 'PSWeight', 'L1.TripleMu_5OQ_3p5OQ_2p5OQ_DoubleMu_5_2p5_OQ_OS_Mass_5to17', 'FatJet.DDX_tau2_trackSip3dSig_1', 'HLT.PFHT300PT30_QuadPFJet_75_60_45_40', 'L1.DoubleTau70er2p1', 'GenPart.genPartIdxMotherG', 'Muon.tightId', 'L1.Mu3_Jet120er2p7_dEta_Max0p4_dPhi_Max0p4', 'L1.Mu20_EG10', 'SubJet.nBHadrons', 'Jet.jetId', 'HLT.Photon200', 'Flag.globalTightHalo2016Filter', 'HLT.Ele24_eta2p1_WPTight_Gsf_MediumChargedIsoPFTau30_eta2p1_TightID_CrossL1', 'L1.DoubleEG6_HTT255er', 'Tau.rawMVAnewDM2017v2', 'SubJet.btagCMVA', 'Tau.rawIso', 'L1.DoubleJet30_Mass_Min360_dEta_Max1p5', 'HLT.Mu43NoFiltersNoVtx_Photon43_CaloIdL', 'Jet.chFPV3EF', 'L1.SingleMu10_LowQ', 'L1.SingleEG2_BptxAND', 'Electron.mvaFall17V2noIso_WP80', 'L1.ETMHF150', 'HLT.L1MinimumBiasHF0OR', 'HLT.CaloMET350_HBHECleaned', 'PuppiMET.ptJESUp', 'L1.BptxXOR', 'Jet.muonIdx1G', 'L1.DoubleJet_115_35_DoubleJet35_Mass_Min620', 'FatJet.btagDDBvLV2', 'FatJet.particleNet_TvsQCD', 'Jet.chFPV2EF', 'GenPart.status', 'L1.SingleJet120', 'Muon.genPartIdx', 'Electron.lostHits', 'HLT.Mu50_IsoVVVL_PFHT450', 'FatJet.tau2', 'HLT.Mu23_TrkIsoVVL_Ele12_CaloIdL_TrackIdL_IsoVL', 'JetSVs.d3dsig', 'HLT.Mu20_Mu10_DZ', 'Electron.scEtOverPt', 'HTXS.njets25', 'L1.DoubleMu_15_7', 'SV.dxy', 'HLT.Dimuon0_Upsilon_L1_5', 'HLT.IsoMu20_eta2p1_TightChargedIsoPFTau27_eta2p1_TightID_CrossL1', 'Photon.genPartIdxG', 'L1.Mu22er2p1_IsoTau38er2p1', 'Photon.eCorr', 'L1.Mu7_LooseIsoEG20', 'L1.SingleJet160', 'Jet.DeepCSV_trackPtRel_0', 'HLT.QuadPFJet105_88_76_15', 'HLT.Ele23_CaloIdL_TrackIdL_IsoVL_PFJet30', 'L1.Mu22er2p1_IsoTau33er2p1', 'HLT.Ele24_eta2p1_WPTight_Gsf_MediumChargedIsoPFTau30_eta2p1_CrossL1', 'L1.TripleJet_100_85_72_VBF', 'GenMET.phi', 'L1.DoubleEG6_HTT300er', 'Jet.DeepCSV_trackPtRatio_0', 'HLT.AK8PFJet400', 'HTXS.stage1_2_cat_pTjet30GeV', 'HLT.DoubleMu4_PsiPrimeTrk_Displaced', 'L1.SingleEG36er2p1', 'HLT.Ele30_eta2p1_WPTight_Gsf_CentralPFJet35_EleCleaned', 'HLT.CaloMET90_NotCleaned', 'Jet.btagDeepFlavB', 'Jet.DeepCSV_trackDecayLenVal_3', 'Flag.globalSuperTightHalo2016Filter', 'Jet.nElectrons', 'HLT.AK8PFJet80', 'GenJet.hadronFlavour', 'GenFatJetSVs.jetIdxG', 'HLT.L1UnpairedBunchBptxPlus', 'L1.TripleMu_5SQ_3SQ_0_DoubleMu_5_3_SQ_OS_Mass_Max9', 'FatJet.deepTagMD_ZvsQCD', 'L1.SingleIsoEG37', 'SubJet.pt', 'GenJetAK8.mass', 'L1.UnprefireableEvent', 'RawMET.sumEt', 'SV.dxySig', 'HTXS.stage1_1_cat_pTjet25GeV', 'Jet.DeepCSV_trackDecayLenVal_5', 'HLT.PFHT510', 'HLT.BTagMu_AK4DiJet70_Mu5', 'HLT.Mu20_Mu10_SameSign', 'HLT.Ele23_Ele12_CaloIdL_TrackIdL_IsoVL', 'Electron.sip3d', 'FatJetSVs.sVIdxG', 'L1.DoubleMu22er2p1', 'OtherPV.z', 'L1.SingleMuCosmics_BMTF', 'HLT.PFMET120_PFMHT120_IDTight', 'HLT.Mu23_Mu12_SameSign_DZ', 'HLT.Dimuon0_Upsilon_NoVertexing', 'L1.Mu22er2p1_IsoTau36er2p1', 'L1.HTT340er_QuadJet_70_55_40_40_er2p5', 'HLT.Mu19_TrkIsoVVL_Mu9_TrkIsoVVL', 'FatJetSVs.chi2', 'Muon.jetPtRelv2', 'Muon.highPtId', 'SV.x', 'HLT.DoubleMu3_Trk_Tau3mu_NoL1Mass', 'L1.SingleIsoEG36', 'HLT.Dimuon12_Upsilon_eta1p5', 'HLT.Ele32_WPTight_Gsf_L1DoubleEG', 'Electron.pfRelIso03_chg', 'Electron.mvaFall17V2noIso', 'L1.TripleMu_5_3p5_2p5', 'HLT.Mu20', 'HLT.IsoMu24_eta2p1_TightChargedIsoPFTau35_Trk1_eta2p1_Reg_CrossL1', 'HLT.DiPFJetAve15_HFJEC', 'HLT.Photon75_R9Id90_HE10_IsoM_EBOnly_PFJetsMJJ600DEta3', 'HLT.PFMET200_HBHECleaned', 'Electron.miniPFRelIso_all', 'SV.y', 'Tau.idAntiEle2018', 'HLT.AK8PFHT900_TrimMass50', 'Jet.DeepCSV_trackJetDistVal_1', 'HLT.BTagMu_AK4DiJet170_Mu5', 'L1.ETMHF100_Jet60_OR_DiJet30woTT28', 'FsrPhoton.pt', 'HLT.HISinglePhoton50_Eta3p1ForPPRef', 'L1.SingleMu3', 'HLT.Ele50_IsoVVVL_PFHT450', 'L1.SingleMu5', 'L1.LooseIsoEG24er2p1_IsoTau27er2p1_dR_Min0p3', 'HLT.PFMET100_PFMHT100_IDTight_CaloBTagCSV_3p1', 'Jet.DeepCSV_trackDecayLenVal_4', 'L1.DoubleJet_100_35_DoubleJet35_Mass_Min620', 'L1.ZeroBias_copy', 'HLT.DiPFJetAve140', 'HLT.Ele8_CaloIdL_TrackIdL_IsoVL_PFJet30', 'L1.DoubleMu_12_5', 'GenPart.pdgId', 'L1.DoubleMu5_SQ_OS', 'HLT.PFJet550', 'Jet.DeepCSV_trackSip2dValAboveCharm', 'Jet.DeepCSV_trackSip2dSig_1', 'HLT.DoublePhoton70', 'HLT.Mu8_TrkIsoVVL_Ele23_CaloIdL_TrackIdL_IsoVL', 'HLT.AK4PFJet100', 'L1.SingleTau20', 'L1.DoubleEG_22_12', 'L1.Mu6_DoubleEG17', 'FatJet.DDX_tau1_trackEtaRel_0', 'GenFatJetCands.pFCandsIdxG', 'HLT.Ele24_eta2p1_WPTight_Gsf_TightChargedIsoPFTau30_eta2p1_CrossL1', 'L1.HTT240er', 'HLT.Photon175', 'L1.IsoTau40er_ETM90', 'Tau.jetIdx', 'HLT.Dimuon0_Upsilon_L1_4p5er2p0M', 'HLT.DoubleIsoMu20_eta2p1', 'L1.SingleJet200', 'HLT.MediumChargedIsoPFTau50_Trk30_eta2p1_1pr', 'HLT.Diphoton30PV_18PV_R9Id_AND_IsoCaloId_AND_HE_R9Id_PixelVeto_Mass55', 'Jet.DeepCSV_trackEtaRel_0', 'L1.ETMHF120', 'HLT.Mu15_IsoVVVL_PFHT450', 'L1.DoubleIsoTau28er2p1', 'HLT.Dimuon0_Upsilon_L1_4p5', 'Electron.eta', 'Jet.DeepCSV_trackPtRatio_1', 'HLT.AK8PFJetFwd40', 'HLT.IsoMu24_eta2p1_LooseChargedIsoPFTau35_Trk1_eta2p1_Reg_CrossL1', 'HLT.Photon150', 'HLT.Mu17_TrkIsoVVL_Mu8_TrkIsoVVL_DZ_Mass3p8', 'Jet.DeepCSV_flightDistance3dSig', 'L1.SingleJet150', 'HLT.Physics_part6', 'Tau.idMVAoldDMdR032017v2', 'HLT.Photon165_R9Id90_HE10_IsoM', 'L1.SingleJet35_FWD', 'Flag.CSCTightHaloTrkMuUnvetoFilter', 'Muon.dxyErr', 'Muon.mvaId', 'GenJetSVs.jetIdxG', 'L1.IsoTau40er_ETM80', 'FatJet.particleNet_ZvsQCD', 'L1simulation.step', 'L1.Mu3_Jet16er2p7_dEta_Max0p4_dPhi_Max0p4', 'L1.DoubleMu0er1p5_SQ_dR_Max1p4', 'L1.DoubleEG_20_18', 'Muon.pdgId', 'MET.MetUnclustEnUpDeltaX', 'HLT.DiPFJetAve35_HFJEC', 'L1.SingleIsoEG35', 'L1.TripleJet_84_68_48_VBF', 'SubJet.tau1', 'Flag.BadPFMuonSummer16Filter', 'HLT.Mu19_TrkIsoVVL', 'L1.DoubleMu18er2p1', 'Electron.mvaFall17V1Iso_WP90', 'L1.SingleEG38', 'Photon.genPartFlav', 'FatJet.particleNetMD_Xcc', 'HLT.MediumChargedIsoPFTau50_Trk30_eta2p1_1pr_MET110', 'HLT.Trimuon5_3p5_2_Upsilon_Muon', 'HLT.ZeroBias_FirstCollisionAfterAbortGap', 'L1.Mu6_HTT250er', 'IsoTrack.isHighPurityTrack', 'Electron.mvaFall17V1noIso', 'L1.SingleJet180', 'L1.SingleMu30', 'L1PreFiringWeight.Nom', 'HLT.MET105_IsoTrk50', 'FatJetPFCands.btagJetDistVal', 'Photon.charge', 'L1.DoubleJet_110_35_DoubleJet35_Mass_Min620', 'PuppiMET.phiJESDown', 'FatJet.hadronFlavour', 'HLT.HISinglePhoton60_Eta3p1ForPPRef', 'GenPart.statusFlags', 'L1.TripleEG_14_10_8', 'Jet.muEF', 'Muon.miniIsoId', 'HLT.Mu12_DoublePFJets100_CaloBTagCSV_p33', 'L1.TripleMu3_SQ', 'GenVtx.t0', 'L1.SingleEG30', 'FatJet.muonIdx3SJG', 'L1.SingleJet90', 'Flag.goodVertices', 'HLT.QuadPFJet111_90_80_15', 'PFCands.trkChi2', 'L1.DoubleMu0', 'L1.SingleIsoEG22er2p1', 'Electron.jetIdx', 'L1.SingleIsoEG18er2p1', 'FatJet.DDX_trackSip2dSigAboveBottom_1', 'HLT.PFHT430_SixPFJet40_PFBTagCSV_1p5', 'L1.DoubleMu0_ETM60', 'SoftActivityJet.phi', 'ChsMET.pt', 'HLT.Ele24_eta2p1_WPTight_Gsf_TightChargedIsoPFTau30_eta2p1_TightID_CrossL1', 'RawPuppiMET.sumEt', 'Jet.DeepCSV_trackPtRel_4', 'HLT.DoubleMu4_JpsiTrkTrk_Displaced', 'Flag.HcalStripHaloFilter', 'HLT.DoubleMu2_Jpsi_DoubleTrk1_Phi', 'HLT.Dimuon20_Jpsi_Barrel_Seagulls', 'L1.SingleJet60_FWD', 'L1.DoubleMu_15_5_SQ', 'L1.FirstCollisionInTrain', 'HLT.Mu23_Mu12_SameSign', 'HLT.L1MinimumBiasHF_OR', 'FatJet.area', 'Tau.genPartFlav', 'HLT.DiEle27_WPTightCaloOnly_L1DoubleEG', 'HLT.PFJet450', 'Tau.idDeepTau2017v2p1VSe', 'L1.SingleIsoEG36er2p1', 'HLT.AK8PFJetFwd140', 'L1.SingleMu14er2p1', 'Tau.cleanmask', 'HLT.DoubleLooseChargedIsoPFTau35_Trk1_TightID_eta2p1_Reg', 'Jet.muonIdx2', 'HLT.Photon40_HoverELoose', 'Jet.cRegCorr', 'Jet.DeepCSV_trackPtRatio_3', 'Jet.cleanmask', 'L1.DoubleEG6_HTT270er', 'HLT.Dimuon0_LowMass_L1_0er1p5R', 'Jet.DeepCSV_jetNSelectedTracks', 'Muon.cleanmask', 'SoftActivityJetNjets10', 'L1.ETT80_BptxAND', 'HLT.CaloJet500_NoJetID', 'L1.HTT500er', 'L1.DoubleJet30_Mass_Min400_dEta_Max1p5', 'Muon.dzErr', 'TkMET.sumEt', 'RawPuppiMET.phi', 'L1.BPTX_AND_Ref3_VME', 'L1.DoubleJet30_Mass_Min380_dEta_Max1p5', 'HLT.IsoMu24_eta2p1_MediumChargedIsoPFTau35_Trk1_TightID_eta2p1_Reg_CrossL1', 'JetPFCands.btagJetDistVal', 'GenJet.mass', 'HLT.IsoMu20_eta2p1_MediumChargedIsoPFTau27_eta2p1_CrossL1', 'Flag.BadChargedCandidateSummer16Filter', 'HLT.DoubleMu2_Jpsi_DoubleTkMu0_Phi', 'FatJet.deepTag_ZvsQCD', 'HLT.Mu17_TrkIsoVVL_Mu8_TrkIsoVVL_DZ', 'L1.FirstBunchAfterTrain', 'Jet.qgl', 'HLT.Physics', 'L1.Mu22er2p1_IsoTau35er2p1', 'HLT.DoubleEle27_CaloIdL_MW', 'L1.ETM110', 'Generator.x1', 'L1.SingleEG15', 'HLT.Photon75', 'GenJetAK8.phi', 'HTXS.Higgs_y', 'HLT.PFMET300_HBHECleaned', 'HLT.Mu18_Mu9', 'PFCands.vtxChi2', 'L1.DoubleMu0_ETM40', 'MET.covYY', 'GenFatJetCands.jetIdxG', 'FatJet.tau1', 'Generator.scalePDF', 'HLT.L1NotBptxOR', 'Photon.vidNestedWPBitmap', 'HLT.Tau3Mu_Mu7_Mu1_TkMu1_Tau15_Charge1', 'FatJetPFCands.btagPParRatio', 'Muon.jetIdx', 'HLT.PFJet320', 'HLT.MonoCentralPFJet80_PFMETNoMu130_PFMHTNoMu130_IDTight', 'Jet.btagDeepFlavQG', 'HLT.Photon25', 'HLT.L2Mu45_NoVertex_3Sta_NoBPTX3BX', 'Muon.segmentComp', 'L1.SingleMu22_EMTF', 'Generator.binvar', 'HLT.PFHT380_SixPFJet32_DoublePFBTagCSV_2p2', 'HLT.IsoMu24_eta2p1_MediumChargedIsoPFTau50_Trk30_eta2p1_1pr', 'FatJet.rawFactor', 'Electron.isPFcand', 'FatJet.electronIdx3SJG', 'Tau.idDecayModeNewDMs', 'JetSVs.ntracks', 'L1.MinimumBiasHF0_AND_BptxAND', 'L1.BPTX_OR_Ref3_VME', 'FatJet.subJetIdx1', 'HLT.AK8PFJet550', 'Jet.muonSubtrFactor', 'GenCands.pt', 'HLT.DoubleTightChargedIsoPFTau35_Trk1_eta2p1_Reg', 'Jet.DeepCSV_trackSumJetDeltaR', 'L1.ETMHF90', 'Photon.cutBased_Fall17V1Bitmap', 'Photon.pdgId', 'SubJet.tau2', 'L1.SingleIsoEG40', 'L1.HTT320er_QuadJet_70_55_45_45_er2p5', 'HLT.Mu12_DoublePFJets200_CaloBTagCSV_p33', 'Flag.eeBadScFilter', 'Electron.deltaEtaSC', 'L1PreFiringWeight.Up', 'L1.TripleMu_5SQ_3SQ_0OQ', 'HLT.Diphoton30_18_PVrealAND_R9Id_AND_IsoCaloId_AND_HE_R9Id_PixelVeto_Mass55', 'FatJet.btagDDCvB_noMD', 'JetSVs.ptrel', 'Jet.DeepCSV_trackDeltaR_4', 'L1.DoubleJet100er2p7', 'Electron.dz', 'Jet.DeepCSV_vertexNTracks', 'Muon.looseId', 'HLT.MediumChargedIsoPFTau50_Trk30_eta2p1_1pr_MET130', 'HLT.MediumChargedIsoPFTau50_Trk30_eta2p1_1pr_MET100', 'Jet.btagDeepB', 'HLT.PFHT700_PFMET95_PFMHT95_IDTight', 'GenFatJetCands.pFCandsIdx', 'HLT.L1SingleMu18', 'Muon.pfRelIso04_all', 'L1.EG25er2p1_HTT125er', 'L1.DoubleMu7_EG7', 'PuppiMET.ptUnclusteredDown', 'RawMET.phi', 'GenDressedLepton.mass', 'Jet.DeepCSV_trackSumJetEtRatio', 'L1.Mu5_LooseIsoEG20', 'HLT.AK8PFJet420_TrimMass30', 'Tau.rawMVAoldDMdR032017v2', 'Tau.idAntiEleDeadECal', 'L1.SingleJet35_HFp', 'L1.SingleEG26', 'GenVisTau.mass', 'Jet.DeepCSV_trackSip3dSig_0', 'L1.ETT95_BptxAND', 'HLT.PFMET110_PFMHT110_IDTight_CaloBTagCSV_3p1', 'Photon.jetIdx', 'HLT.Mu12_DoublePFJets350_CaloBTagCSV_p33', 'HLT.CaloMET70_HBHECleaned', 'L1.DoubleJet30_Mass_Min320_dEta_Max1p5', 'L1.ETM60', 'L1.DoubleEG_22_15', 'L1.IsoTau40er_ETM100', 'HLT.PFJetFwd140', 'Tau.dz', 'GenIsolatedPhoton.phi', 'HLT.CaloMET80_NotCleaned', 'HLT.IsoMu24_eta2p1', 'L1.DoubleMu3_SQ_HTT220er', 'L1.ETMHF80', 'JetSVs.enration', 'L1.ETM105', 'L1.Mu22er2p1_IsoTau30er2p1', 'HLT.Mu18_Mu9_DZ', 'FatJetPFCands.pFCandsIdxG', 'L1.DoubleMu3_SQ_ETMHF80_Jet60_OR_DoubleJet30', 'HLT.ZeroBias_part0', 'HLT.PFMET140_PFMHT140_IDTight', 'Electron.cutBased', 'L1.SingleMu22_BMTF', 'L1.DoubleMu3_SQ_ETMHF70_Jet60_OR_DoubleJet30', 'Jet.btagDeepB_b', 'Tau.chargedIso', 'HLT.Diphoton30EB_18EB_R9Id_OR_IsoCaloId_AND_HE_R9Id_PixelVeto_Mass55', 'HLT.AK8PFHT850_TrimMass50', 'L1.TripleMu_5_3p5_2p5_DoubleMu_5_2p5_OS_Mass_5to17', 'JetPFCands.btagSip3dSig', 'HLT.BTagMu_AK4DiJet110_Mu5', 'HLT.DiPFJetAve40', 'Photon.hoe', 'HLT.Mu25_TkMu0_Onia', 'HLT.Photon60_R9Id90_CaloIdL_IsoL_DisplacedIdL', 'FatJet.btagDDBvL', 'Tau.puCorr', 'HLT.IsoMu24_eta2p1_MediumChargedIsoPFTau40_Trk1_eta2p1_Reg_CrossL1', 'Jet.hfadjacentEtaStripsSize', 'Pileup.pudensity', 'FatJetSVs.jetIdx', 'MET.sumPtUnclustered', 'Jet.btagDeepL', 'PFCands.mass', 'fixedGridRhoFastjetCentralChargedPileUp', 'Jet.nConstituents', 'HLT.DoubleMu4_3_Jpsi_Displaced', 'L1.ETT75_BptxAND', 'L1.Mu15_HTT100er', 'FatJet.subJetIdx1G', 'HLT.AK8PFJet330_PFAK8BTagCSV_p1', 'HLT.Ele145_CaloIdVT_GsfTrkIdT', 'HLT.DoubleMu20_7_Mass0to30_Photon23', 'HLT.Ele23_Ele12_CaloIdL_TrackIdL_IsoVL_DZ', 'FatJet.DDX_trackSip2dSigAboveBottom_0', 'FatJet.DDX_tau1_trackSip3dSig_0', 'HLT.VBF_DoubleMediumChargedIsoPFTau20_Trk1_eta2p1_Reg', 'L1.EG27er2p1_HTT200er', 'Electron.charge', 'HLT.AK8PFJet360_TrimMass30', 'Jet.DeepCSV_trackSip2dSig_2', 'HLT.Photon30_HoverELoose', 'HLT.Photon300_NoHE', 'Generator.weight', 'L1.SingleJet43er2p7_NotBptxOR_3BX', 'Tau.rawAntiEle2018', 'HLT.PFJetFwd400', 'L1.SingleIsoEG20', 'FatJet.DDX_tau1_trackEtaRel_2', 'L1.DoubleMu3_SQ_ETMHF60_Jet60_OR_DoubleJet30', 'TrigObj.l1pt_2', 'L1.TripleMu_5_3_3', 'HLT.Ele135_CaloIdVT_GsfTrkIdT', 'GenJetAK8.hadronFlavour', 'FsrPhoton.dROverEt2', 'HLT.Diphoton30_18_PVrealAND_R9Id_AND_IsoCaloId_AND_HE_R9Id_NoPixelVeto_Mass55', 'Jet.DeepCSV_trackDeltaR_0', 'L1.HTT160er', 'HLT.AK8PFJetFwd320', 'Electron.mvaTTH', 'JetSVs.deltaR', 'L1.DoubleTau50er2p1', 'L1.NotBptxOR', 'Electron.energyErr', 'L1.DoubleEG8er2p6_HTT300er', 'HTXS.stage1_1_fine_cat_pTjet25GeV', 'IsoTrack.pdgId', 'L1.DoubleMu8_SQ', 'MET.fiducialGenPt', 'Flag.trkPOGFilters', 'GenPart.phi', 'L1.Mu12_EG10', 'FatJet.mass', 'L1.TripleMu0', 'SubJet.rawFactor', 'L1.DoubleEG_LooseIso23_10', 'HLT.MonoCentralPFJet80_PFMETNoMu120_PFMHTNoMu120_IDTight', 'HLT.Mu19', 'HLT.IsoMu24', 'Jet.DeepCSV_trackPtRel_1', 'Electron.mvaFall17V2noIso_WP90', 'TrigObj.l1iso', 'L1.DoubleMu4_OS_EG12', 'HLT.TripleJet110_35_35_Mjj650_PFMET110', 'HLT.Mu20_Mu10', 'Muon.tkIsoId', 'Electron.mvaFall17V1Iso_WP80', 'L1.SingleMu16', 'FatJet.lsf3', 'Jet.DeepCSV_trackSip3dSig_3', 'SoftActivityJetHT', 'JetSVs.jetIdxG', 'Tau.idAntiEle', 'L1.DoubleMu0er1p5_SQ_OS', 'HLT.Mu27', 'CorrT1METJet.eta', 'Photon.mvaID_Fall17V1p1', 'Jet.btagDeepFlavB_b', 'FatJet.DDX_tau1_trackEtaRel_1', 'L1.HTT450er', 'HLT.Ele250_CaloIdVT_GsfTrkIdT', 'HLT.HT425', 'HLT.Tau3Mu_Mu7_Mu1_TkMu1_IsoTau15', 'L1.DoubleMu5_SQ_OS_Mass7to18', 'HLT.RsqMR320_Rsq0p09_MR200_4jet', 'L1.LastCollisionInTrain', 'Jet.genJetIdxG', 'Muon.phi', 'Tau.rawMVAoldDM2017v1', 'HLT.PFHT800_PFMET75_PFMHT75_IDTight', 'Generator.xpdf1', 'L1.SingleMu22er2p1', 'HLT.AK4CaloJet40', 'GenVisTau.genPartIdxMother', 'HLT.PFHT370', 'Jet.electronIdxG', 'HLT.HT430_DisplacedDijet40_DisplacedTrack', 'HLT.DiPFJetAve25_HFJEC', 'L1.SingleEG40', 'GenVisTau.charge', 'HLT.L1ETMHadSeeds', 'Jet.hfsigmaEtaEta', 'Jet.DeepCSV_trackSip3dSigAboveCharm', 'IsoTrack.fromPV', 'HLT.Ele12_CaloIdL_TrackIdL_IsoVL_PFJet30', 'L1.SingleIsoEG38', 'Tau.rawAntiEleCat2018', 'L1.ETT110_BptxAND', 'JetPFCands.pFCandsIdxG', 'GenFatJetSVs.sVIdxG', 'HLT.Mu8_DiEle12_CaloIdL_TrackIdL', 'HTXS.stage1_1_fine_cat_pTjet30GeV', 'L1.ETT40_BptxAND', 'HLT.Ele23_CaloIdM_TrackIdM_PFJet30', 'Jet.DeepCSV_trackJetDistVal_4', 'L1.Mu5_EG20', 'L1.SingleIsoEG38er2p1', 'GenPart.distinctChildrenIdxG', 'HLT.DoubleMu20_7_Mass0to30_L1_DM4EG', 'L1.SingleIsoEG26er2p1', 'Jet.hfsigmaPhiPhi', 'HLT.PFMETNoMu140_PFMHTNoMu140_IDTight', 'L1.DoubleJet80er2p7', 'HLT.Photon120', 'Flag.chargedHadronTrackResolutionFilter', 'L1.SingleEG36', 'Jet.pt', 'FatJetSVs.dxysig', 'HLT.Mu37_TkMu27', 'HLT.CaloMET300_HBHECleaned', 'Pileup.sumEOOT', 'Tau.jetIdxG', 'HLT.PFMETTypeOne130_PFMHT130_IDTight', 'L1.QuadJet50er2p7', 'FatJet.DDX_tau2_vertexEnergyRatio', 'L1.SingleJet60_HFm', 'Photon.mvaID', 'Muon.tightCharge', 'Jet.btagDeepFlavB_lepb', 'HLT.QuadPFJet103_88_75_15_DoubleBTagCSV_p013_p08_VBF1', 'HLT.Physics_part0', 'Jet.btagDeepFlavG', 'L1.DoubleMu0er2_SQ_dR_Max1p4', 'L1.DoubleJet60er2p7_ETM80', 'L1.HTT120er', 'HLT.Ele35_WPTight_Gsf', 'L1.DoubleMu5_OS_EG12', 'L1.SingleEG50', 'SV.pAngle', 'PuppiMET.ptJERUp', 'L1.SingleMu0_OMTF', 'Jet.DeepCSV_jetNTracksEtaRel', 'HLT.Dimuon0_LowMass_L1_4R', 'FatJet.deepTagMD_ZbbvsQCD', 'L1.ETMHF100_Jet90_OR_DoubleJet45_OR_TripleJet30', 'L1.ETMHF70', 'L1.DoubleMu3_SQ_HTT200er', 'MET.significance', 'Jet.DeepCSV_vertexJetDeltaR', 'Muon.mediumId', 'FsrPhoton.phi', 'L1.DoubleMu_11_4', 'HLT.DoubleL2Mu50', 'L1.Mu6_DoubleEG10', 'HLT.Photon90_R9Id90_HE10_IsoM', 'HLT.DoubleMu48NoFiltersNoVtx', 'Pileup.nTrueInt', 'L1.DoubleEG_24_17', 'L1.DoubleMu0_ETM70', 'HLT.AK8PFJet60', 'FatJetSVs.costhetasvpv', 'GenCands.pdgId', 'HLT.UncorrectedJetE70_NoBPTX3BX', 'HLT.PFMET120_PFMHT120_IDTight_CaloBTagCSV_3p1', 'L1.LooseIsoEG30er2p1_Jet34er2p7_dR_Min0p3', 'Flag.HBHENoiseIsoFilter', 'HLT.CaloJet550_NoJetID', 'HLT.Ele15_IsoVVVL_PFHT450_CaloBTagCSV_4p5', 'Jet.DeepCSV_trackDeltaR_3', 'L1.SingleMuOpen_NotBptxOR', 'Muon.dxy', 'L1.SingleEG34er2p1', 'HLT.Dimuon24_Phi_noCorrL1', 'Muon.tkRelIso', 'HLT.Diphoton30_22_R9Id_OR_IsoCaloId_AND_HE_R9Id_Mass95', 'Electron.pdgId', 'HLT.PFMETNoMu100_PFMHTNoMu100_IDTight_PFHT60', 'HLT.AK4CaloJet80', 'DeepMETResponseTune.pt', 'HLT.DiSC30_18_EIso_AND_HE_Mass70', 'TkMET.pt', 'L1.ETM50', 'Photon.jetIdxG', 'CorrT1METJet.area', 'HLT.HT300_Beamspot', 'Muon.ptErr', 'FatJet.msoftdrop', 'JetSVs.normchi2', 'GenJet.phi', 'CorrT1METJet.rawPt', 'JetSVs.chi2', 'L1.AlwaysTrue', 'Electron.mvaFall17V1Iso_WPL', 'L1.SingleMu7', 'HLT.AK4PFJet120', 'Muon.jetRelIso', 'HLT.AK4PFJet80', 'HLT.IsoMu30', 'HLT.DiJet110_35_Mjj650_PFMET120', 'FatJet.DDX_trackSip3dSig_2', 'HLT.PFMETTypeOne120_PFMHT120_IDTight_PFHT60', 'HLT.PFJetFwd200', 'HLT.HISinglePhoton40_Eta3p1ForPPRef', 'HLT.Diphoton30_22_R9Id_OR_IsoCaloId_AND_HE_R9Id_Mass90', 'L1.QuadJet60er2p7', 'L1.HTT300er', 'FatJet.deepTag_H', 'Electron.genPartIdx', 'FatJet.tau4', 'L1.Mu6_HTT200er', 'PFCands.pdgId', 'HLT.DoublePFJets200_CaloBTagCSV_p33', 'HLT.Ele300_CaloIdVT_GsfTrkIdT', 'HLT.Ele38_WPTight_Gsf', 'HLT.Mu27_Ele37_CaloIdL_MW', 'L1.TripleMu_5_4_2p5_DoubleMu_5_2p5_OS_Mass_5to17', 'Muon.eta', 'PFCands.pt', 'Jet.DeepCSV_trackDecayLenVal_2', 'Photon.isScEtaEB', 'Electron.dr03EcalRecHitSumEt', 'L1.IsoTau40er_ETM85', 'PuppiMET.sumEt', 'Tau.idMVAnewDM2017v2', 'HLT.ZeroBias_part3', 'Jet.nBHadrons', 'ChsMET.phi', 'FatJet.DDX_z_ratio', 'HLT.RsqMR300_Rsq0p09_MR200', 'L1.DoubleMu4p5_SQ_OS', 'L1.DoubleMu_15_7_SQ', 'L1.TripleEG_18_17_8', 'HLT.ECALHT800', 'HLT.Mu8_TrkIsoVVL', 'FatJet.DDX_trackSip3dSig_0', 'HLT.Physics_part5', 'SoftActivityJetHT10', 'L1.Mu18_Jet24er2p7', 'L1.SingleIsoEG22', 'Tau.rawDeepTau2017v2p1VSjet', 'L1.SingleJet12_BptxAND', 'L1.HTT220er', 'Muon.softMvaId', 'Electron.convVeto', 'L1.TripleMu_5SQ_3SQ_0OQ_DoubleMu_5_3_SQ_OS_Mass_Max9', 'L1.IsoEG33_Mt40', 'L1.DoubleMu0_SQ_OS', 'L1.Mu10er2p1_ETM30', 'Jet.DeepCSV_trackPtRel_2', 'PFCands.eta', 'HLT.DoubleMu4_Jpsi_NoVertexing', 'GenJetAK8.eta', 'L1.LooseIsoEG28er2p1_HTT100er', 'L1.IsoEG33_Mt44', 'L1.SingleJet20er2p7_NotBptxOR_3BX', 'L1.DoubleMu6_SQ_OS', 'L1.Mu20er2p1_IsoTau26er2p1', 'HLT.DoubleMu3_DZ_PFMET70_PFMHT70', 'SoftActivityJetNjets2', 'HLT.DoubleTightChargedIsoPFTau40_Trk1_TightID_eta2p1_Reg', 'HLT.PFHT350MinPFJet15', 'Tau.charge', 'HLT.DiPFJetAve160_HFJEC', 'HLT.IsoMu24_eta2p1_MediumChargedIsoPFTau40_Trk1_TightID_eta2p1_Reg_CrossL1', 'Jet.DeepCSV_trackSip3dSig_1', 'Electron.dxy', 'HLT.DiPFJetAve300_HFJEC', 'HLT.PFMET130_PFMHT130_IDTight_CaloBTagCSV_3p1', 'Muon.isPFcand', 'JetSVs.dxysig', 'SoftActivityJetNjets5', 'HLT.QuadPFJet103_88_75_15', 'L1.ETMHF110', 'Jet.DeepCSV_trackEtaRel_2', 'GenJet.partonFlavour', 'Electron.dr03TkSumPt', 'HLT.HcalIsolatedbunch', 'GenJetCands.pFCandsIdxG', 'HLT.Mu12_DoublePhoton20', 'L1.Mu6_HTT240er', 'Muon.multiIsoId', 'HLT.Physics_part7', 'HLT.QuadPFJet105_90_76_15_DoubleBTagCSV_p013_p08_VBF1', 'L1.SingleMu22', 'FatJet.btagDeepC', 'HLT.HcalCalibration', 'HLT.Dimuon0_Jpsi_NoVertexing_NoOS', 'L1.Mu22er2p1_Tau50er2p1', 'L1.TripleJet_98_83_71_VBF', 'SV.z', 'GenJetSVs.jetIdx', 'L1.Mu20_LooseIsoEG6', 'HLT.BTagMu_AK4Jet300_Mu5', 'Photon.cutBased', 'HLT.PFHT700_PFMET85_PFMHT85_IDTight', 'HLT.PFMET200_NotCleaned', 'HLT.AK4CaloJet120', 'FatJetSVs.mass', 'L1.BPTX_BeamGas_Ref2_VME', 'L1.ETMHF100', 'L1.Mu5_EG15', 'Jet.neHEF', 'L1.DoubleJet_110_40_DoubleJet40_Mass_Min620', 'HLT.Mu30_TkMu0_Onia', 'HLT.Mu19_TrkIsoVVL_Mu9_TrkIsoVVL_DZ', 'L1.DoubleMu0_ETM65', 'luminosityBlock', 'JetPFCands.btagEtaRel', 'HLT.DoublePhoton33_CaloIdL', 'L1.ETM30', 'L1.Mu20er2p1_IsoTau27er2p1', 'FatJet.btagDDBvL_noMD', 'HLT.Mu17_TrkIsoVVL', 'Photon.eta', 'Jet.DeepCSV_trackSip2dSig_5', 'L1.ETMHF120_HTT60er', 'Pileup.nPU', 'HLT.PFMETTypeOne140_PFMHT140_IDTight', 'L1.ETMHF120_Jet60_OR_DiJet30woTT28', 'Tau.dxy', 'GenPart.eta', 'GenJetSVs.sVIdxG', 'FatJet.particleNetMD_QCD', 'L1.SingleIsoEG30er2p1', 'Tau.neutralIso', 'HLT.Dimuon25_Jpsi_noCorrL1', 'L1.TripleJet_92_76_64_VBF', 'Tau.rawIsodR03', 'L1.DoubleJet60er2p7', 'L1.SingleEG38er2p1', 'HLT.Dimuon0_LowMass_L1_TM530', 'L1.ETM75', 'HLT.DoubleEle24_eta2p1_WPTight_Gsf', 'HLT.PFMET100_PFMHT100_IDTight_PFHT60', 'Jet.btagDeepB_bb', 'Jet.mass', 'HLT.HT550_DisplacedDijet80_Inclusive', 'L1.LooseIsoEG22er2p1_IsoTau26er2p1_dR_Min0p3', 'HLT.Photon60_R9Id90_CaloIdL_IsoL_DisplacedIdL_PFHT350MinPFJet15', 'L1.DoubleMu_13_6', 'HLT.PFMETTypeOne100_PFMHT100_IDTight_PFHT60', 'L1.ETMHF110_Jet60_OR_DiJet30woTT28', 'btagWeight.CSVV2', 'HLT.AK8PFJet500', 'HLT.Ele35_WPTight_Gsf_L1EGMT', 'Jet.btagDeepFlavCvL', 'L1.SingleIsoEG32er2p1', 'HLT.IsoMu24_eta2p1_TightChargedIsoPFTau35_Trk1_TightID_eta2p1_Reg_CrossL1', 'HLT.Photon75_R9Id90_HE10_IsoM_EBOnly_PFJetsMJJ300DEta3', 'Tau.rawAntiEle', 'L1.SingleEG42', 'HLT.Rsq0p40', 'L1.DoubleEG_LooseIso24_10', 'HLT.DiPFJetAve260', 'L1.SingleMuOpen', 'Muon.mvaTTH', 'HLT.Dimuon10_Upsilon_Barrel_Seagulls', 'HLT.IsoMu27_MediumChargedIsoPFTau20_SingleL1', 'L1.Mu22er2p1_IsoTau34er2p1', 'SubGenJetAK8.phi', 'Electron.photonIdxG', 'HLT.Mu23_Mu12', 'FatJetPFCands.jetIdx', 'HLT.Dimuon0_LowMass_L1_0er1p5', 'Jet.DeepCSV_trackPtRatio_2', 'L1.ETT100_BptxAND', 'PFCands.phi', 'JetSVs.d3d', 'L1.BPTX_OR_Ref4_VME', 'L1.SingleEG10', 'FsrPhoton.muonIdxG', 'Muon.tunepRelPt', 'L1.BptxOR', 'FatJetPFCands.btagSip3dSig', 'HLT.DiPFJetAve400', 'HLT.Mu15_IsoVVVL_PFHT450_PFMET50', 'HLT.ZeroBias_part6', 'HLT.DiMu9_Ele9_CaloIdL_TrackIdL_DZ', 'FatJet.muonIdx3SJ', 'PuppiMET.phiJERDown', 'Muon.dxybs', 'HLT.PFHT350', 'FatJet.btagDeepB_b', 'FatJet.deepTagMD_ZHccvsQCD', 'FatJet.deepTagMD_bbvsLight', 'HLT.ZeroBias_FirstBXAfterTrain', 'L1.SingleMu12_LowQ_EMTF', 'HLT.Mu8_Ele8_CaloIdM_TrackIdM_Mass8_PFHT350_DZ', 'Jet.muonIdx1', 'Jet.DeepCSV_trackSip2dSig_4', 'Electron.eInvMinusPInv', 'L1.DoubleMu3_SQ_ETMHF40_Jet60_OR_DoubleJet30', 'Jet.genJetIdx', 'L1.IsoTau40er_ETMHF90', 'HLT.AK8PFJet450', 'HLT.IsoMu20_eta2p1_LooseChargedIsoPFTau27_eta2p1_CrossL1', 'FatJet.btagCMVA', 'HLT.HT550_DisplacedDijet60_Inclusive', 'HLT.DoubleEle8_CaloIdM_TrackIdM_Mass8_DZ_PFHT350', 'HLT.Mu12_DoublePFJets62MaxDeta1p6_DoubleCaloBTagCSV_p33', 'Muon.softId', 'L1.Mu22er2p1_IsoTau32er2p1', 'L1.Mu3_Jet30er2p5', 'L1.ETM120', 'HLT.HISinglePhoton10_Eta3p1ForPPRef', 'HLT.IsoMu24_eta2p1_TightChargedIsoPFTau40_Trk1_eta2p1_Reg_CrossL1', 'L1.DoubleEG_18_17', 'HLT.Mu12_DoublePFJets40MaxDeta1p6_DoubleCaloBTagCSV_p33', 'L1.IsoTau40er_ETM110', 'FatJet.genJetAK8IdxG', 'L1.ETT70_BptxAND', 'L1.LooseIsoEG26er2p1_Jet34er2p7_dR_Min0p3', 'IsoTrack.phi', 'FatJet.jetId', 'Jet.muonIdx2G', 'SubJet.mass', 'Electron.photonIdx', 'L1.HTT400er', 'L1.Mu18er2p1_IsoTau26er2p1', 'HLT.IsoMu20_eta2p1_TightChargedIsoPFTau27_eta2p1_CrossL1', 'L1.HTT270er', 'HLT.RsqMR300_Rsq0p09_MR200_4jet', 'L1.DoubleJet150er2p7', 'JetPFCands.btagPtRatio', 'L1.HTT320er_QuadJet_70_55_40_40_er2p5', 'HLT.AK8PFJet400_TrimMass30', 'HLT.QuadPFJet98_83_71_15_DoubleBTagCSV_p013_p08_VBF1', 'L1.BPTX_NotOR_VME', 'DeepMETResolutionTune.phi', 'IsoTrack.eta', 'SoftActivityJetHT2', 'FatJetSVs.d3dsig', 'GenPart.genPartIdxMother', 'L1.HTT280er_QuadJet_70_55_40_35_er2p5', 'FatJet.btagDDCvL_noMD', 'L1.DoubleMu0er1p4_SQ_OS_dR_Max1p4', 'HLTriggerFinalPath', 'FatJetSVs.d3d', 'HLT.Ele28_eta2p1_WPTight_Gsf_HT150', 'L1.ETMHF90_Jet90_OR_DoubleJet45_OR_TripleJet30', 'Muon.softMva', 'Jet.DeepCSV_trackPtRatio_4', 'L1.HTT255er', 'HLT.HT450_Beamspot', 'Photon.seedGain', 'HLT.PFHT380_SixPFJet32_DoublePFBTagDeepCSV_2p2', 'SoftActivityJetHT5', 'Electron.genPartIdxG', 'HLT.DoublePFJets128MaxDeta1p6_DoubleCaloBTagCSV_p33', 'Tau.idDeepTau2017v2p1VSmu', 'L1.DoubleMu3_OS_DoubleEG7p5Upsilon', 'HLT.UncorrectedJetE30_NoBPTX3BX', 'HLT.DiPFJetAve500', 'IsoTrack.miniPFRelIso_all', 'HLT.DoublePFJets100_CaloBTagCSV_p33', 'Muon.isGlobal', 'L1.SingleMu12_LowQ_BMTF', 'HLT.PFJet260', 'HLT.HT650_DisplacedDijet60_Inclusive', 'Jet.btagDeepCvL', 'SV.mass', 'HLT.Mu7p5_Track3p5_Jpsi', 'HTXS.Higgs_pt', 'HLT.Mu12_TrkIsoVVL_Ele23_CaloIdL_TrackIdL_IsoVL_DZ', 'HLT.Mu55', 'Muon.miniPFRelIso_chg', 'DeepMETResponseTune.phi', 'HLT.PFHT590', 'L1.SingleMu0_BMTF', 'HLT.Mu25_TkMu0_Phi', 'TrigObj.pt', 'Electron.jetIdxG', 'FatJet.DDX_tau2_trackEtaRel_0', 'L1.ETMHF100_HTT60er', 'HLT.PFHT300PT30_QuadPFJet_75_60_45_40_TriplePFBTagCSV_3p0', 'HLT.IsoMu20_eta2p1_MediumChargedIsoPFTau27_eta2p1_TightID_CrossL1', 'L1.SingleJet46er2p7_NotBptxOR_3BX', 'fixedGridRhoFastjetCentralNeutral', 'L1.DoubleMu0_ETM55', 'FatJetSVs.dxy', 'HLT.MediumChargedIsoPFTau180HighPtRelaxedIso_Trk50_eta2p1', 'Jet.electronIdx2', 'HLT.DiPFJetAve100_HFJEC', 'Electron.mvaFall17V2Iso', 'GenVtx.z', 'FatJet.DDX_tau2_trackEtaRel_3', 'L1.DoubleJet_100_30_DoubleJet30_Mass_Min620', 'Muon.puppiIsoId', 'GenVisTau.phi', 'Muon.mvaLowPtId', 'Jet.DeepCSV_trackJetDistVal_5', 'HLT.Dimuon0_Jpsi', 'HLT.Tau3Mu_Mu7_Mu1_TkMu1_IsoTau15_Charge1', 'HLT.DoubleMu8_Mass8_PFHT350', 'HLT.IsoMu27', 'L1.SingleMuCosmics', 'HLT.AK4PFJet50', 'L1.DoubleJet60er2p7_ETM60', 'L1.IsoTau40er_ETM115', 'L1.Mu14er2p1_ETM30', 'Flag.CSCTightHalo2015Filter', 'HLT.PFMETNoMu130_PFMHTNoMu130_IDTight', 'HTXS.stage_0', 'L1.Mu22er2p1_IsoTau28er2p1', 'HLT.UncorrectedJetE60_NoBPTX3BX', 'L1.Mu3_Jet60er2p7_dEta_Max0p4_dPhi_Max0p4', 'HLT.CaloMET110_NotCleaned', 'PuppiMET.pt', 'Flag.BadPFMuonFilter', 'GenPart.distinctParentIdxG', 'HLT.CaloMET80_HBHECleaned', 'Photon.electronIdx', 'L1.SingleEG18', 'HLT.AK8PFJet260', 'L1.SingleIsoEG40er2p1', 'SoftActivityJet.pt', 'HLT.Ele27_WPTight_Gsf', 'Electron.seedGain', 'HLT.ZeroBias_IsolatedBunches', 'HLT.AK4CaloJet50', 'HLT.FullTrack_Multiplicity130', 'HLT.Mu19_TrkIsoVVL_Mu9_TrkIsoVVL_DZ_Mass8', 'HLT.Mu23_TrkIsoVVL_Ele12_CaloIdL_TrackIdL_IsoVL_DZ', 'Jet.area', 'L1.SingleTau140er2p1', 'HLT.DiPFJetAve320', 'HLT.ZeroBias_part1', 'Tau.rawAntiEleCat', 'Jet.DeepCSV_flightDistance3dVal', 'GenJetCands.jetIdx', 'HLT.IsoMu27_LooseChargedIsoPFTau20_SingleL1', 'Photon.pfRelIso03_all', 'HLT.DoubleMu3_DCA_PFMET50_PFMHT60', 'HLT.Ele8_CaloIdM_TrackIdM_PFJet30', 'HLT.PFJetFwd450', 'HLT.TriplePhoton_20_20_20_CaloIdLV2_R9IdVL', 'MET.fiducialGenPhi', 'HLT.IsoMu20_eta2p1_LooseChargedIsoPFTau27_eta2p1_TightID_CrossL1', 'Jet.DeepCSV_trackSip2dSig_3', 'L1.DoubleMu0_SQ', 'Photon.pfRelIso03_chg', 'TrigObj.id', 'L1.SingleIsoEG24er2p1', 'L1.DoubleJet60er2p7_ETM100', 'HLT.Photon60_R9Id90_CaloIdL_IsoL', 'HLT.IsoMu24_eta2p1_TightChargedIsoPFTau40_Trk1_TightID_eta2p1_Reg_CrossL1', 'HLT.DiMu9_Ele9_CaloIdL_TrackIdL', 'L1.BPTX_RefAND_VME', 'GenJetCands.jetIdxG', 'GenPart.mass', 'HLT.Physics_part1', 'HLT.TriplePhoton_30_30_10_CaloIdLV2_R9IdVL', 'HLT.DiPFJetAve60', 'HLT.HT750_DisplacedDijet80_Inclusive', 'TrigObj.l1charge', 'HLT.DoublePhoton85', 'HLT.EcalCalibration', 'L1.ETM80', 'HLT.IsoMu24_eta2p1_MediumChargedIsoPFTau20_SingleL1', 'L1.BPTX_BeamGas_B2_VME', 'FatJet.Proba', 'FatJet.deepTagMD_ccvsLight', 'L1.DoubleMu0er1p5_SQ_OS_dR_Max1p4', 'L1.DoubleMu3_SQ_HTT100er', 'L1.DoubleEG_25_12', 'HLT.AK8PFJetFwd60', 'HLT.PFMETNoMu110_PFMHTNoMu110_IDTight', 'HLT.DoubleMu4_3_Bs', 'PFCands.lostInnerHits', 'HTXS.stage_1_pTjet30', 'HTXS.stage1_2_fine_cat_pTjet30GeV', 'Jet.chHEF', 'HLTriggerFirstPath', 'HLT.DoubleMu4_Jpsi_Displaced', 'HLT.Dimuon0_Upsilon_L1_4p5NoOS', 'FatJet.DDX_trackSip3dSig_3', 'L1.DoubleIsoTau38er2p1', 'L1.ETMHF70_Jet90_OR_DoubleJet45_OR_TripleJet30', 'HLT.PFJet140', 'HLT.TripleMu_5_3_3_Mass3p8to60_DZ', 'HLT.L1_CDC_SingleMu_3_er1p2_TOP120_DPHI2p618_3p142', 'Flag.muonBadTrackFilter', 'GenPart.pt', 'HLT.BTagMu_AK4DiJet20_Mu5', 'HLT.L2Mu10_NoVertex_NoBPTX', 'Tau.leadTkDeltaEta', 'HLT.Photon50_R9Id90_HE10_IsoM_EBOnly_PFJetsMJJ300DEta3_PFMET50', 'Tau.idDeepTau2017v2p1VSjet', 'HLT.AK4CaloJet100', 'Electron.mvaFall17V2noIso_WPL', 'SubJet.btagDeepB_b', 'Jet.btagDeepC', 'HLT.HcalPhiSym', 'Electron.cleanmask', 'L1.HTT340er_QuadJet_70_55_45_45_er2p5', 'HLT.DiPFJetAve80_HFJEC', 'L1.DoubleMu5Upsilon_OS_DoubleEG3', 'L1.BptxMinus', 'HLT.HT430_DisplacedDijet60_DisplacedTrack', 'L1.Mu8_HTT150er', 'Muon.genPartFlav', 'HLT.DoubleTightChargedIsoPFTau40_Trk1_eta2p1_Reg', 'PuppiMET.ptUnclusteredUp', 'HLT.RsqMR320_Rsq0p09_MR200', 'L1.FirstBunchInTrain', 'HLT.PFMETTypeOne120_PFMHT120_IDTight', 'L1.ETM70', 'FatJet.particleNetMD_Xbb', 'SV.phi', 'fixedGridRhoFastjetCentral', 'TkMET.phi', 'HLT.AK8PFJetFwd500', 'HLT.AK8PFJetFwd200', 'Jet.bRegRes', 'SubJet.btagDeepB_bb', 'Jet.DeepCSV_trackSip3dSig_4', 'HLT.DiPFJet25_NoCaloMatched', 'Muon.pt', 'Photon.mvaID_WP80', 'HLT.DoubleMu3_DZ_PFMET50_PFMHT60', 'FsrPhoton.eta', 'FatJet.particleNet_WvsQCD', 'HLT.IsoMu24_eta2p1_TightChargedIsoPFTau20_SingleL1', 'L1.QuadMu0', 'HLT.DiPFJetAve60_HFJEC', 'L1.DoubleLooseIsoEG22er2p1', 'L1.LooseIsoEG24er2p1_HTT100er', 'JetPFCands.jetIdxG', 'FatJet.deepTagMD_HbbvsQCD', 'L1.DoubleMu4p5_SQ', 'HLT.PFJetFwd40', 'SV.eta', 'HLT.AK8PFJetFwd80', 'Jet.btagCMVA', 'L1.SingleJet16', 'L1.ETM75_Jet60_dPhi_Min0p4', 'L1.ETT60_BptxAND', 'L1.IsoTau40er_ETMHF80', 'Jet.muonIdxG', 'FatJet.btagDDCvBV2', 'Tau.mass', 'JetPFCands.btagSip3dVal', 'HLT.Mu15_IsoVVVL_PFHT450_CaloBTagCSV_4p5', 'FatJet.btagDeepB', 'HLT.Mu17_TrkIsoVVL_Mu8_TrkIsoVVL_DZ_Mass8', 'GenDressedLepton.phi', 'Jet.DeepCSV_trackPtRel_3', 'HLT.PFHT180', 'HLT.Ele16_Ele12_Ele8_CaloIdL_TrackIdL', 'HLT.HISinglePhoton20_Eta3p1ForPPRef', 'L1.MU20_EG15', 'L1.ETMHF90_HTT60er', 'Flag.trkPOG_manystripclus53X', 'L1.HTT380er', 'L1.Mu22er2p1_Tau70er2p1', 'HLT.TkMu100', 'HLT.PFHT680', 'GenVtx.y', 'L1.IsoTau40er_ETM120', 'FatJet.btagDDCvB', 'HLT.PFHT430_SixPFJet40', 'FatJet.DDX_jetNTracks', 'HLT.Mu10_TrkIsoVVL_DiPFJet40_DEta3p5_MJJ750_HTT350_PFMETNoMu60', 'HLT.Mu17_TrkIsoVVL_Mu8_TrkIsoVVL', 'PuppiMET.ptJESDown', 'L1.ETM110_Jet60_dPhi_Min0p4', 'Electron.genPartFlav', 'HLT.Photon20_HoverELoose', 'HLT.ZeroBias_part4', 'Tau.rawMVAoldDM2017v2', 'SV.dlen', 'Jet.chFPV0EF', 'L1.BPTX_BeamGas_Ref1_VME', 'PFCands.charge', 'GenDressedLepton.pt', 'L1.SingleIsoEG30', 'SubJet.tau3', 'HLT.L1_DoubleJet30_Mass_Min400_Mu10', 'L1.UnpairedBunchBptxMinus', 'L1.ETMHF110_Jet90_OR_DoubleJet45_OR_TripleJet30', 'Jet.DeepCSV_trackJetPt', 'HLT.Ele24_eta2p1_WPTight_Gsf_LooseChargedIsoPFTau30_eta2p1_TightID_CrossL1', 'HLT.L2Mu50', 'Jet.btagDeepFlavCvB', 'FatJetPFCands.jetIdxG', 'Electron.dr03TkSumPtHEEP', 'HLT.CaloMET250_HBHECleaned', 'Electron.ip3d', 'Jet.btagDeepFlavC', 'GenVtx.x', 'Photon.isScEtaEE', 'HLT.CaloMET250_NotCleaned', 'FatJetSVs.enration', 'L1.TripleMu_5OQ_3p5OQ_2p5OQ_DoubleMu_5_2p5_OQ_OS_Mass_8to14', 'FatJet.particleNet_HccvsQCD', 'Jet.btagCSVV2', 'HLT.Dimuon18_PsiPrime_noCorrL1', 'HLT.Photon50_R9Id90_HE10_IsoM', 'L1.SingleEG28', 'HLT.Dimuon0_LowMass_L1_4', 'Jet.DeepCSV_trackJetDistVal_0', 'L1.HTT280er', 'TrigObj.phi', 'HLT.AK8PFJetFwd260', 'Tau.idMVAoldDM2017v1', 'HLT.HT400_DisplacedDijet40_DisplacedTrack', 'L1.SingleTau100er2p1', 'Tau.eta', 'FatJet.btagDeepL', 'HLT.DoubleMediumChargedIsoPFTau35_Trk1_TightID_eta2p1_Reg', 'SubJet.nCHadrons', 'FatJet.DDX_trackSip2dSigAboveCharm', 'Muon.pfRelIso03_all', 'L1.SingleEG45', 'GenJetAK8.partonFlavour', 'L1.DoubleIsoTau34er2p1', 'Jet.electronIdx1', 'Electron.pt', 'L1.SingleMu22_OMTF', 'Tau.genPartIdxG', 'L1.SingleEG5', 'HLT.PFJetFwd80', 'Tau.phi', 'L1.DoubleJet120er2p7', 'L1.SingleIsoEG24', 'SubJet.tau4', 'Flag.trkPOG_logErrorTooManyClusters', 'HLT.QuadPFJet98_83_71_15_BTagCSV_p013_VBF2', 'FatJet.btagDeepB_bb', 'L1.LooseIsoEG26er2p1_HTT100er', 'L1.DoubleMu_15_5', 'L1.HTT300er_QuadJet_70_55_40_35_er2p5', 'L1.SingleIsoEG28', 'FatJet.deepTagMD_H4qvsQCD', 'L1.DoubleMu4p5er2p0_SQ_OS', 'L1.ETMHF80_HTT60er', 'HLT.L1SingleMu25', 'HTXS.njets30', 'HLT.TriplePhoton_35_35_5_CaloIdLV2_R9IdVL', 'L1.HTT340er', 'L1.MinimumBiasHF0_OR_BptxAND', 'Electron.dxyErr', 'Jet.DeepCSV_trackEtaRel_1', 'HLT.Dimuon0_Jpsi_NoVertexing', 'HLT.PFMET200_HBHE_BeamHaloCleaned', 'Muon.nTrackerLayers', 'HLT.Random', 'Tau.rawDeepTau2017v2p1VSe', 'SubGenJetAK8.eta', 'ChsMET.sumEt', 'L1.SingleJet35_HFm', 'Tau.idMVAoldDM2017v2', 'Jet.Proba', 'FatJet.eta', 'HLT.Rsq0p35', 'HLT.HcalNZS', 'genTtbarId', 'Photon.sieie', 'HLT.IsoTrackHB', 'Electron.mvaFall17V1noIso_WP80', 'GenCands.phi', 'Jet.btagDeepFlavB_bb', 'FatJet.particleNet_QCD', 'Jet.DeepCSV_flightDistance2dSig', 'Photon.mvaID_WP90', 'event', 'HLT.PFMETNoMu120_PFMHTNoMu120_IDTight', 'Electron.mvaFall17V2Iso_WP80', 'L1.SingleMu18', 'HLT.Physics_part4', 'Electron.dzErr', 'L1.SingleJet170', 'Jet.eta', 'L1.DoubleLooseIsoEG24er2p1', 'L1.DoubleJet30_Mass_Min400_Mu6', 'HLT.Dimuon0_Jpsi_L1_NoOS', 'L1.SingleIsoEG33er2p1', 'Flag.trkPOG_toomanystripclus53X', 'L1.SingleMuOpen_NotBptxOR_3BX', 'Electron.mass', 'HLT.Ele27_Ele37_CaloIdL_MW', 'L1.SingleMu20', 'SV.dlenSig', 'HLT.HT650_DisplacedDijet80_Inclusive', 'Jet.cRegRes', 'L1.DoubleJet_115_40_DoubleJet40_Mass_Min620', 'FatJet.deepTag_QCD', 'L1.DoubleIsoTau32er2p1', 'HLT.BTagMu_AK8DiJet170_Mu5', 'PFCands.dz', 'L1.DoubleJet30_Mass_Min400_Mu10', 'HLT.Mu19_TrkIsoVVL_Mu9_TrkIsoVVL_DZ_Mass3p8', 'HLT.Dimuon0_Upsilon_Muon_L1_TM0', 'JetSVs.pt', 'Electron.miniPFRelIso_chg', 'Jet.DeepCSV_trackJetDistVal_3', 'HLT.DiPFJetAve80', 'HLT.PFMET130_PFMHT130_IDTight', 'HLT.Mu7p5_Track2_Upsilon', 'HLT.PFMET120_PFMHT120_IDTight_PFHT60', 'FatJet.deepTag_TvsQCD', 'HLT.PFHT380_SixPFJet32', 'HLT.DoublePFJets350_CaloBTagCSV_p33', 'Flag.hcalLaserEventFilter', 'L1.CDC_SingleMu_3_er1p2_TOP120_DPHI2p618_3p142', 'HLT.ZeroBias_part7', 'HLT.PFMETTypeOne200_HBHE_BeamHaloCleaned', 'HLT.Dimuon10_PsiPrime_Barrel_Seagulls', 'HLT.IsoTrackHE', 'fixedGridRhoFastjetCentralCalo', 'PV.npvsGood', 'CaloMET.sumEt', 'GenCands.eta', 'L1.FirstCollisionInOrbit', 'HLT.Photon50', 'L1.DoubleEG_23_10', 'HLT.DoubleLooseChargedIsoPFTau40_Trk1_eta2p1_Reg', 'HLT.DoublePFJets116MaxDeta1p6_DoubleCaloBTagCSV_p33', 'PV.z', 'HLT.PFMETNoMu120_PFMHTNoMu120_IDTight_PFHT60', 'FsrPhoton.relIso03', 'HLT.MonoCentralPFJet80_PFMETNoMu110_PFMHTNoMu110_IDTight', 'L1.DoubleJet50er2p7', 'Jet.nMuons', 'SubGenJetAK8.mass', 'GenVisTau.status', 'HLT.Ele15_IsoVVVL_PFHT450', 'HLT.QuadPFJet103_88_75_15_BTagCSV_p013_VBF2', 'L1.DoubleJet60er2p7_ETM70', 'Flag.ecalBadCalibFilter', 'L1.SingleMu0_EMTF', 'FatJet.deepTagMD_WvsQCD', 'L1.SingleIsoEG35er2p1', 'JetPFCands.btagPParRatio', 'HLT.FullTrack_Multiplicity155', 'HLT.Mu48NoFiltersNoVtx_Photon48_CaloIdL', 'Photon.pt', 'HTXS.stage1_1_cat_pTjet30GeV', 'HLT.Mu3_PFJet40', 'Photon.electronIdxG', 'Photon.energyErr', 'L1.TripleMu_5_5_3', 'L1.SingleMu12_LowQ_OMTF', 'L1.HTT320er', 'HLT.DoubleTightChargedIsoPFTau35_Trk1_TightID_eta2p1_Reg', 'Muon.mediumPromptId', 'Jet.bRegCorr', 'FatJet.subJetIdx2', 'GenCands.mass', 'L1.SingleIsoEG20er2p1', 'SubJet.btagDeepL', 'Muon.highPurity', 'Electron.vidNestedWPBitmapHEEP', 'Tau.idDecayMode', 'HLT.DiPFJet15_FBEta3_NoCaloMatched', 'FatJet.DDX_tau1_vertexEnergyRatio', 'HLT.PFHT430', 'HLT.DiPFJet15_NoCaloMatched', 'L1.Mu5_EG23', 'IsoTrack.isPFcand', 'L1.QuadJet40er2p7', 'L1.DoubleMu3_SQ_HTT240er', 'Jet.phi', 'L1.DoubleEG_15_10', 'PuppiMET.phiJESUp', 'Jet.DeepCSV_trackDeltaR_5', 'HLT.PFMET250_HBHECleaned', 'L1.UnpairedBunchBptxPlus', 'HLT.AK8PFJet380_TrimMass30', 'HLT.Mu8_TrkIsoVVL_DiPFJet40_DEta3p5_MJJ750_HTT300_PFMETNoMu60', 'L1.DoubleEG8er2p6_HTT270er', 'Tau.photonsOutsideSignalCone', 'SubJet.hadronFlavour', 'SubJet.Proba', 'FatJet.deepTag_WvsQCD', 'L1.Mu20_EG17', 'Generator.x2', 'HLT.Diphoton30EB_18EB_R9Id_OR_IsoCaloId_AND_HE_R9Id_NoPixelVeto_Mass55', 'HLT.AK8PFJet330_PFAK8BTagCSV_p17', 'L1.Mu23_EG10']}\n"
     ]
    }
   ],
   "source": [
    "import dask_awkward as dak\n",
    "\n",
    "# Creating a lazy dask array of events array with the same\n",
    "dask_events = open_events(permit_dask=True)\n",
    "\n",
    "# Syntax for dask arrays is identical to the plain awkward arrays!\n",
    "dask_jets = dask_events.Jet\n",
    "dask_jets[\"MLresults_dask\"] = pn_example2(dask_events)\n",
    "dask_events[\"Jet\"] = dask_jets\n",
    "\n",
    "# Checking that we get identical results\n",
    "print(dask_events.Jet.MLresults_dask.compute())\n",
    "print(ak.all(dask_events.Jet.MLresults_dask.compute() == events.Jet.MLresults))\n",
    "\n",
    "# Check which columns are loaded\n",
    "print(dak.necessary_columns(dask_events.Jet.MLresults_dask))\n"
   ]
  },
  {
   "attachments": {},
   "cell_type": "markdown",
   "metadata": {},
   "source": [
    "The only remaining issue is that `dask` is currently loading all columns in the\n",
    "array that is passed to the `awkward_to_numpy` method, even those that are not\n",
    "required for the ML inference computation. While this behavior ensure that\n",
    "everything is loaded, leading to less room for errors to during the development\n",
    "of the `awkward_to_numpy` method, leaving this behavior unchanged can load to\n",
    "excessive memory usage, depending on how the event array is set up.\n",
    "\n",
    "To properly solve this behavior, one should further overload the `dask_columns`\n",
    "method to return a list of columns that is strictly needed by the inference\n",
    "tools. The inputs should be identical to that of the `awkward_to_numpy` method\n",
    "defined by the user. Notice how this cell is considerably faster than the\n",
    "previous. \n",
    "\n",
    "*Note:* as of writing, there is a [bug][bug] that causes the kernel to\n",
    "segmentation fault if the required branches are not included. If you are running\n",
    "into issues, it might be that you need to allow the class you are using to be\n",
    "slightly less lazy.\n",
    "\n",
    "[bug]: https://github.com/dask-contrib/dask-awkward/issues/249\n"
   ]
  },
  {
   "cell_type": "code",
   "execution_count": 6,
   "metadata": {},
   "outputs": [
    {
     "name": "stdout",
     "output_type": "stream",
     "text": [
      "[[0.528, 0.528, 0.524, 0.523, 0.521, 0.52, 0.519, 0.519], ..., [0.528, ...]]\n",
      "True\n",
      "{'from-uproot-f8512f447b3981f81867e04375f667d4': ['Jet.nConstituents', 'PFCands.d0', 'PFCands.dz', 'PFCands.pt', 'Jet.eta', 'Jet.pt', 'Jet.phi', 'JetPFCands.pFCandsIdx', 'PFCands.eta', 'PFCands.phi']}\n"
     ]
    }
   ],
   "source": [
    "class ParticleNetExample3(ParticleNetExample2):\n",
    "    def dask_columns(self, events):\n",
    "        return [\n",
    "            events.Jet.pt,\n",
    "            events.Jet.eta,\n",
    "            events.Jet.phi,\n",
    "            events.Jet.PFCands.pt,\n",
    "            events.Jet.PFCands.eta,\n",
    "            events.Jet.PFCands.phi,\n",
    "            events.Jet.PFCands.d0,\n",
    "            events.Jet.PFCands.dz,\n",
    "        ]\n",
    "\n",
    "\n",
    "pn_example3 = ParticleNetExample3(\"model.pt\")\n",
    "\n",
    "# Reloading a lazy instance of the array\n",
    "dask_events = open_events(permit_dask=True)\n",
    "\n",
    "# Syntax for dask arrays is identical to the plain awkward arrays!\n",
    "dask_jets = dask_events.Jet\n",
    "dask_jets[\"MLresults_lazy\"] = pn_example3(dask_events)\n",
    "dask_events[\"Jet\"] = dask_jets\n",
    "\n",
    "# Checking that we get identical results\n",
    "print(dask_events.Jet.MLresults_lazy.compute())\n",
    "# Checking that we get identical results\n",
    "print(ak.all(dask_events.Jet.MLresults_lazy.compute() == events.Jet.MLresults))\n",
    "\n",
    "# Check which columns are loaded\n",
    "print(dak.necessary_columns(dask_events.Jet.MLresults_lazy))\n"
   ]
  },
  {
   "attachments": {},
   "cell_type": "markdown",
   "metadata": {},
   "source": [
    "Of course, the implementation of the classes above can be written in a single\n",
    "class. Here is a copy-and-paste implementation of the class with all the\n",
    "functionality described in the cells above:"
   ]
  },
  {
   "cell_type": "code",
   "execution_count": 7,
   "metadata": {},
   "outputs": [
    {
     "name": "stdout",
     "output_type": "stream",
     "text": [
      "[[0.528, 0.528, 0.524, 0.523, 0.521, 0.52, 0.519, 0.519], ..., [0.528, ...]]\n",
      "{'from-uproot-00618dded7651437e4e71167a590ec14': ['Jet.nConstituents', 'PFCands.d0', 'PFCands.dz', 'PFCands.pt', 'Jet.eta', 'Jet.pt', 'Jet.phi', 'JetPFCands.pFCandsIdx', 'PFCands.eta', 'PFCands.phi']}\n"
     ]
    }
   ],
   "source": [
    "class ParticleNetExample(torch_wrapper):\n",
    "    def awkward_to_numpy(self, events):\n",
    "        jets = ak.flatten(events.Jet)\n",
    "\n",
    "        def pad(arr):\n",
    "            return ak.fill_none(\n",
    "                ak.pad_none(arr, 100, axis=1, clip=True),\n",
    "                0.0,\n",
    "            )\n",
    "\n",
    "        # Human readable version of what the inputs are\n",
    "        # Each array is a N jets x 100 constituent array\n",
    "        imap = {\n",
    "            \"points\": {\n",
    "                \"deta\": pad(jets.eta - jets.PFCands.eta),\n",
    "                \"dphi\": pad(jets.delta_phi(jets.PFCands)),\n",
    "            },\n",
    "            \"features\": {\n",
    "                \"dr\": pad(jets.delta_r(jets.PFCands)),\n",
    "                \"lpt\": pad(np.log(jets.PFCands.pt)),\n",
    "                \"lptf\": pad(np.log(jets.PFCands.pt / jets.pt)),\n",
    "                \"f1\": pad(np.log(np.abs(jets.PFCands.d0) + 1)),\n",
    "                \"f2\": pad(np.log(np.abs(jets.PFCands.dz) + 1)),\n",
    "            },\n",
    "            \"mask\": {\n",
    "                \"mask\": pad(ak.ones_like(jets.PFCands.pt)),\n",
    "            },\n",
    "        }\n",
    "\n",
    "        # Compacting the array elements into the desired dimension using\n",
    "        # ak.concatenate\n",
    "        retmap = {\n",
    "            k: ak.concatenate([x[:, np.newaxis, :] for x in imap[k].values()], axis=1)\n",
    "            for k in imap.keys()\n",
    "        }\n",
    "\n",
    "        # Returning everything using a dictionary. Also take care of type\n",
    "        # conversion here.\n",
    "        return (), {\n",
    "            \"points\": ak.values_astype(retmap[\"points\"], \"float32\").to_numpy(),\n",
    "            \"features\": ak.values_astype(retmap[\"features\"], \"float32\").to_numpy(),\n",
    "            \"mask\": ak.values_astype(retmap[\"mask\"], \"float16\").to_numpy(),\n",
    "        }\n",
    "\n",
    "    def numpy_to_awkward(self, return_array, events):\n",
    "        softmax = np.exp(return_array)[:, 0] / np.sum(np.exp(return_array), axis=-1)\n",
    "\n",
    "        njets = ak.count(events.Jet.pt, axis=-1)\n",
    "        return ak.unflatten(softmax, njets)\n",
    "\n",
    "    def dask_columns(self, events):\n",
    "        return [\n",
    "            events.Jet.pt,\n",
    "            events.Jet.eta,\n",
    "            events.Jet.phi,\n",
    "            events.Jet.PFCands.pt,\n",
    "            events.Jet.PFCands.eta,\n",
    "            events.Jet.PFCands.phi,\n",
    "            events.Jet.PFCands.d0,\n",
    "            events.Jet.PFCands.dz,\n",
    "        ]\n",
    "\n",
    "\n",
    "pn_example = ParticleNetExample(\"model.pt\")\n",
    "\n",
    "# Reloading a lazy instance of the array\n",
    "dask_events = open_events(permit_dask=True)\n",
    "\n",
    "# Syntax for dask arrays is identical to the plain awkward arrays!\n",
    "dask_jets = dask_events.Jet\n",
    "dask_jets[\"MLresults\"] = pn_example(dask_events)\n",
    "dask_events[\"Jet\"] = dask_jets\n",
    "\n",
    "# Checking that we get identical results\n",
    "print(dask_events.Jet.MLresults.compute())\n",
    "\n",
    "# Check which columns are loaded\n",
    "print(dak.necessary_columns(dask_events.Jet.MLresults))\n"
   ]
  },
  {
   "attachments": {},
   "cell_type": "markdown",
   "metadata": {},
   "source": [
    "## Comments about generalizing to other ML tools\n",
    "\n",
    "All ML wrappers provided in the `coffea.mltools` module (`triton_wrapper` for\n",
    "[triton][triton] server inference, `torch_wrapper` for pytorch, and\n",
    "`xgboost_wrapper` for [xgboost][xgboost] inference) follow the same design:\n",
    "analyzers is responsible for providing the model of interest, along with\n",
    "providing an inherited class that overloads of the following methods to data\n",
    "type conversion:\n",
    "\n",
    "- `awkward_to_numpy`: converting awkward arrays to `numpy` arrays, the output\n",
    "  `numpy` arrays should be in the format of a tuple `a` and a dictionary `b`,\n",
    "  which can be expanded out to the input of the ML tool like `model(*a, **b)`.\n",
    "  Notice some additional trivial conversion (like converting to available\n",
    "  kernels for `pytorch`, converting to a matrix format for `xgboost`, and slice\n",
    "  of array for `triton` is handled automatically by the respective wrappers)\n",
    "- `numpy_to_awkward` (optional): converting the number results back to awkward\n",
    "  array format. If this is not provided, then a simple `ak.from_numpy`\n",
    "  conversion takes place.\n",
    "- `dask_columns` (optional but recommended): Given the inputs to the\n",
    "  `awkward_to_numpy` method, list the branches required for the inference\n",
    "  calculation. If not provided, it will attempt to load all branches\n",
    "  recursively, which may have significant performance penalties.\n",
    "\n",
    "If the ML tool of choice for your analysis has not been implemented by the\n",
    "`coffea.mltools` modules, consider constructing your own with the provided\n",
    "`numpy_call_wrapper` base class in `coffea.mltools`. Aside from the functions\n",
    "listed above, you will also need to provide the `numpy_call` method to perform\n",
    "any additional data format conversions, and call the ML tool of choice. If you\n",
    "think your implementation is general, also consider submitting a PR to the\n",
    "`coffea` repository!\n",
    "\n",
    "[triton]: https://catalog.ngc.nvidia.com/orgs/nvidia/containers/tritonserver\n",
    "[xgboost]: https://xgboost.readthedocs.io/en/stable/\n"
   ]
  }
 ],
 "metadata": {
  "kernelspec": {
   "display_name": "Python 3 (ipykernel)",
   "language": "python",
   "name": "python3"
  },
  "language_info": {
   "codemirror_mode": {
    "name": "ipython",
    "version": 3
   },
   "file_extension": ".py",
   "mimetype": "text/x-python",
   "name": "python",
   "nbconvert_exporter": "python",
   "pygments_lexer": "ipython3",
   "version": "3.8.16"
  },
  "orig_nbformat": 4
 },
 "nbformat": 4,
 "nbformat_minor": 2
}
